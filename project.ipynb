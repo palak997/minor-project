{
 "cells": [
  {
   "cell_type": "code",
   "execution_count": 142,
   "metadata": {},
   "outputs": [],
   "source": [
    "import pandas as pd \n",
    "import numpy as np\n",
    "import matplotlib.pyplot as plt\n",
    "import plotly.express as px"
   ]
  },
  {
   "cell_type": "code",
   "execution_count": 143,
   "metadata": {},
   "outputs": [],
   "source": [
    "df = pd.read_csv('Train_Data.csv')"
   ]
  },
  {
   "cell_type": "code",
   "execution_count": 144,
   "metadata": {},
   "outputs": [
    {
     "data": {
      "text/html": [
       "<div>\n",
       "<style scoped>\n",
       "    .dataframe tbody tr th:only-of-type {\n",
       "        vertical-align: middle;\n",
       "    }\n",
       "\n",
       "    .dataframe tbody tr th {\n",
       "        vertical-align: top;\n",
       "    }\n",
       "\n",
       "    .dataframe thead th {\n",
       "        text-align: right;\n",
       "    }\n",
       "</style>\n",
       "<table border=\"1\" class=\"dataframe\">\n",
       "  <thead>\n",
       "    <tr style=\"text-align: right;\">\n",
       "      <th></th>\n",
       "      <th>gender</th>\n",
       "      <th>ssc_p</th>\n",
       "      <th>ssc_b</th>\n",
       "      <th>hsc_p</th>\n",
       "      <th>hsc_b</th>\n",
       "      <th>hsc_s</th>\n",
       "      <th>degree_p</th>\n",
       "      <th>degree_t</th>\n",
       "      <th>etest_p</th>\n",
       "      <th>mba_p</th>\n",
       "      <th>specialisation</th>\n",
       "      <th>workex</th>\n",
       "      <th>status</th>\n",
       "    </tr>\n",
       "  </thead>\n",
       "  <tbody>\n",
       "    <tr>\n",
       "      <th>0</th>\n",
       "      <td>M</td>\n",
       "      <td>73.976975</td>\n",
       "      <td>Central</td>\n",
       "      <td>77.392691</td>\n",
       "      <td>Others</td>\n",
       "      <td>Science</td>\n",
       "      <td>73.623151</td>\n",
       "      <td>Sci&amp;Tech</td>\n",
       "      <td>84.498310</td>\n",
       "      <td>67.207006</td>\n",
       "      <td>Mkt&amp;HR</td>\n",
       "      <td>Yes</td>\n",
       "      <td>Placed</td>\n",
       "    </tr>\n",
       "    <tr>\n",
       "      <th>1</th>\n",
       "      <td>M</td>\n",
       "      <td>62.000000</td>\n",
       "      <td>Others</td>\n",
       "      <td>62.000000</td>\n",
       "      <td>Others</td>\n",
       "      <td>Commerce</td>\n",
       "      <td>60.000000</td>\n",
       "      <td>Comm&amp;Mgmt</td>\n",
       "      <td>63.000000</td>\n",
       "      <td>52.380000</td>\n",
       "      <td>Mkt&amp;HR</td>\n",
       "      <td>Yes</td>\n",
       "      <td>Placed</td>\n",
       "    </tr>\n",
       "    <tr>\n",
       "      <th>2</th>\n",
       "      <td>M</td>\n",
       "      <td>80.965242</td>\n",
       "      <td>Others</td>\n",
       "      <td>67.104275</td>\n",
       "      <td>Others</td>\n",
       "      <td>Science</td>\n",
       "      <td>72.482621</td>\n",
       "      <td>Sci&amp;Tech</td>\n",
       "      <td>91.343588</td>\n",
       "      <td>71.392313</td>\n",
       "      <td>Mkt&amp;Fin</td>\n",
       "      <td>No</td>\n",
       "      <td>Placed</td>\n",
       "    </tr>\n",
       "    <tr>\n",
       "      <th>3</th>\n",
       "      <td>M</td>\n",
       "      <td>52.000000</td>\n",
       "      <td>Others</td>\n",
       "      <td>65.000000</td>\n",
       "      <td>Others</td>\n",
       "      <td>Arts</td>\n",
       "      <td>57.000000</td>\n",
       "      <td>Others</td>\n",
       "      <td>75.000000</td>\n",
       "      <td>59.810000</td>\n",
       "      <td>Mkt&amp;Fin</td>\n",
       "      <td>Yes</td>\n",
       "      <td>Not Placed</td>\n",
       "    </tr>\n",
       "    <tr>\n",
       "      <th>4</th>\n",
       "      <td>F</td>\n",
       "      <td>69.000000</td>\n",
       "      <td>Central</td>\n",
       "      <td>62.000000</td>\n",
       "      <td>Central</td>\n",
       "      <td>Science</td>\n",
       "      <td>66.000000</td>\n",
       "      <td>Sci&amp;Tech</td>\n",
       "      <td>75.000000</td>\n",
       "      <td>67.990000</td>\n",
       "      <td>Mkt&amp;HR</td>\n",
       "      <td>No</td>\n",
       "      <td>Not Placed</td>\n",
       "    </tr>\n",
       "    <tr>\n",
       "      <th>...</th>\n",
       "      <td>...</td>\n",
       "      <td>...</td>\n",
       "      <td>...</td>\n",
       "      <td>...</td>\n",
       "      <td>...</td>\n",
       "      <td>...</td>\n",
       "      <td>...</td>\n",
       "      <td>...</td>\n",
       "      <td>...</td>\n",
       "      <td>...</td>\n",
       "      <td>...</td>\n",
       "      <td>...</td>\n",
       "      <td>...</td>\n",
       "    </tr>\n",
       "    <tr>\n",
       "      <th>665</th>\n",
       "      <td>F</td>\n",
       "      <td>66.552313</td>\n",
       "      <td>Central</td>\n",
       "      <td>69.552313</td>\n",
       "      <td>Central</td>\n",
       "      <td>Science</td>\n",
       "      <td>64.424403</td>\n",
       "      <td>Others</td>\n",
       "      <td>87.488358</td>\n",
       "      <td>70.979566</td>\n",
       "      <td>Mkt&amp;HR</td>\n",
       "      <td>Yes</td>\n",
       "      <td>Placed</td>\n",
       "    </tr>\n",
       "    <tr>\n",
       "      <th>666</th>\n",
       "      <td>F</td>\n",
       "      <td>65.669891</td>\n",
       "      <td>Central</td>\n",
       "      <td>69.228406</td>\n",
       "      <td>Central</td>\n",
       "      <td>Arts</td>\n",
       "      <td>62.844684</td>\n",
       "      <td>Others</td>\n",
       "      <td>66.911401</td>\n",
       "      <td>60.439367</td>\n",
       "      <td>Mkt&amp;Fin</td>\n",
       "      <td>Yes</td>\n",
       "      <td>Placed</td>\n",
       "    </tr>\n",
       "    <tr>\n",
       "      <th>667</th>\n",
       "      <td>F</td>\n",
       "      <td>72.000000</td>\n",
       "      <td>Central</td>\n",
       "      <td>56.000000</td>\n",
       "      <td>Others</td>\n",
       "      <td>Science</td>\n",
       "      <td>69.000000</td>\n",
       "      <td>Comm&amp;Mgmt</td>\n",
       "      <td>55.600000</td>\n",
       "      <td>65.630000</td>\n",
       "      <td>Mkt&amp;HR</td>\n",
       "      <td>No</td>\n",
       "      <td>Placed</td>\n",
       "    </tr>\n",
       "    <tr>\n",
       "      <th>668</th>\n",
       "      <td>F</td>\n",
       "      <td>42.864579</td>\n",
       "      <td>Others</td>\n",
       "      <td>47.265805</td>\n",
       "      <td>Others</td>\n",
       "      <td>Commerce</td>\n",
       "      <td>54.388593</td>\n",
       "      <td>Comm&amp;Mgmt</td>\n",
       "      <td>68.089552</td>\n",
       "      <td>63.629286</td>\n",
       "      <td>Mkt&amp;HR</td>\n",
       "      <td>No</td>\n",
       "      <td>Not Placed</td>\n",
       "    </tr>\n",
       "    <tr>\n",
       "      <th>669</th>\n",
       "      <td>M</td>\n",
       "      <td>75.835807</td>\n",
       "      <td>Central</td>\n",
       "      <td>95.527337</td>\n",
       "      <td>Others</td>\n",
       "      <td>Science</td>\n",
       "      <td>76.751174</td>\n",
       "      <td>Sci&amp;Tech</td>\n",
       "      <td>93.861727</td>\n",
       "      <td>70.887522</td>\n",
       "      <td>Mkt&amp;Fin</td>\n",
       "      <td>Yes</td>\n",
       "      <td>Placed</td>\n",
       "    </tr>\n",
       "  </tbody>\n",
       "</table>\n",
       "<p>670 rows × 13 columns</p>\n",
       "</div>"
      ],
      "text/plain": [
       "    gender      ssc_p    ssc_b      hsc_p    hsc_b     hsc_s   degree_p  \\\n",
       "0        M  73.976975  Central  77.392691   Others   Science  73.623151   \n",
       "1        M  62.000000   Others  62.000000   Others  Commerce  60.000000   \n",
       "2        M  80.965242   Others  67.104275   Others   Science  72.482621   \n",
       "3        M  52.000000   Others  65.000000   Others      Arts  57.000000   \n",
       "4        F  69.000000  Central  62.000000  Central   Science  66.000000   \n",
       "..     ...        ...      ...        ...      ...       ...        ...   \n",
       "665      F  66.552313  Central  69.552313  Central   Science  64.424403   \n",
       "666      F  65.669891  Central  69.228406  Central      Arts  62.844684   \n",
       "667      F  72.000000  Central  56.000000   Others   Science  69.000000   \n",
       "668      F  42.864579   Others  47.265805   Others  Commerce  54.388593   \n",
       "669      M  75.835807  Central  95.527337   Others   Science  76.751174   \n",
       "\n",
       "      degree_t    etest_p      mba_p specialisation workex      status  \n",
       "0     Sci&Tech  84.498310  67.207006         Mkt&HR    Yes      Placed  \n",
       "1    Comm&Mgmt  63.000000  52.380000         Mkt&HR    Yes      Placed  \n",
       "2     Sci&Tech  91.343588  71.392313        Mkt&Fin     No      Placed  \n",
       "3       Others  75.000000  59.810000        Mkt&Fin    Yes  Not Placed  \n",
       "4     Sci&Tech  75.000000  67.990000         Mkt&HR     No  Not Placed  \n",
       "..         ...        ...        ...            ...    ...         ...  \n",
       "665     Others  87.488358  70.979566         Mkt&HR    Yes      Placed  \n",
       "666     Others  66.911401  60.439367        Mkt&Fin    Yes      Placed  \n",
       "667  Comm&Mgmt  55.600000  65.630000         Mkt&HR     No      Placed  \n",
       "668  Comm&Mgmt  68.089552  63.629286         Mkt&HR     No  Not Placed  \n",
       "669   Sci&Tech  93.861727  70.887522        Mkt&Fin    Yes      Placed  \n",
       "\n",
       "[670 rows x 13 columns]"
      ]
     },
     "execution_count": 144,
     "metadata": {},
     "output_type": "execute_result"
    }
   ],
   "source": [
    "df"
   ]
  },
  {
   "cell_type": "code",
   "execution_count": 145,
   "metadata": {},
   "outputs": [
    {
     "name": "stdout",
     "output_type": "stream",
     "text": [
      "<class 'pandas.core.frame.DataFrame'>\n",
      "RangeIndex: 670 entries, 0 to 669\n",
      "Data columns (total 13 columns):\n",
      " #   Column          Non-Null Count  Dtype  \n",
      "---  ------          --------------  -----  \n",
      " 0   gender          670 non-null    object \n",
      " 1   ssc_p           670 non-null    float64\n",
      " 2   ssc_b           670 non-null    object \n",
      " 3   hsc_p           670 non-null    float64\n",
      " 4   hsc_b           670 non-null    object \n",
      " 5   hsc_s           670 non-null    object \n",
      " 6   degree_p        670 non-null    float64\n",
      " 7   degree_t        670 non-null    object \n",
      " 8   etest_p         670 non-null    float64\n",
      " 9   mba_p           670 non-null    float64\n",
      " 10  specialisation  670 non-null    object \n",
      " 11  workex          670 non-null    object \n",
      " 12  status          670 non-null    object \n",
      "dtypes: float64(5), object(8)\n",
      "memory usage: 68.2+ KB\n"
     ]
    }
   ],
   "source": [
    "df.info()"
   ]
  },
  {
   "cell_type": "code",
   "execution_count": 146,
   "metadata": {},
   "outputs": [
    {
     "data": {
      "text/plain": [
       "gender            0\n",
       "ssc_p             0\n",
       "ssc_b             0\n",
       "hsc_p             0\n",
       "hsc_b             0\n",
       "hsc_s             0\n",
       "degree_p          0\n",
       "degree_t          0\n",
       "etest_p           0\n",
       "mba_p             0\n",
       "specialisation    0\n",
       "workex            0\n",
       "status            0\n",
       "dtype: int64"
      ]
     },
     "execution_count": 146,
     "metadata": {},
     "output_type": "execute_result"
    }
   ],
   "source": [
    "df.isnull().sum()"
   ]
  },
  {
   "cell_type": "code",
   "execution_count": 147,
   "metadata": {},
   "outputs": [],
   "source": [
    "columns= df.columns.tolist()"
   ]
  },
  {
   "cell_type": "code",
   "execution_count": 148,
   "metadata": {},
   "outputs": [
    {
     "name": "stdout",
     "output_type": "stream",
     "text": [
      "['gender', 'ssc_p', 'ssc_b', 'hsc_p', 'hsc_b', 'hsc_s', 'degree_p', 'degree_t', 'etest_p', 'mba_p', 'specialisation', 'workex', 'status']\n"
     ]
    }
   ],
   "source": [
    "print(columns)"
   ]
  },
  {
   "cell_type": "code",
   "execution_count": 149,
   "metadata": {},
   "outputs": [
    {
     "data": {
      "application/vnd.plotly.v1+json": {
       "config": {
        "plotlyServerURL": "https://plot.ly"
       },
       "data": [
        {
         "domain": {
          "x": [
           0,
           1
          ],
          "y": [
           0,
           1
          ]
         },
         "hovertemplate": "ssc_b=%{label}<extra></extra>",
         "labels": [
          "Central",
          "Others",
          "Others",
          "Others",
          "Central",
          "Others",
          "Others",
          "Central",
          "Central",
          "Others",
          "Others",
          "Central",
          "Others",
          "Central",
          "Central",
          "Others",
          "Others",
          "Others",
          "Central",
          "Others",
          "Others",
          "Others",
          "Others",
          "Central",
          "Others",
          "Central",
          "Central",
          "Central",
          "Central",
          "Central",
          "Central",
          "Central",
          "Others",
          "Others",
          "Central",
          "Central",
          "Central",
          "Central",
          "Others",
          "Central",
          "Central",
          "Central",
          "Central",
          "Central",
          "Central",
          "Central",
          "Others",
          "Others",
          "Others",
          "Others",
          "Central",
          "Central",
          "Central",
          "Central",
          "Central",
          "Others",
          "Central",
          "Central",
          "Others",
          "Others",
          "Others",
          "Central",
          "Others",
          "Others",
          "Central",
          "Others",
          "Central",
          "Central",
          "Central",
          "Central",
          "Central",
          "Central",
          "Central",
          "Central",
          "Central",
          "Central",
          "Central",
          "Others",
          "Others",
          "Central",
          "Central",
          "Others",
          "Others",
          "Central",
          "Central",
          "Others",
          "Others",
          "Central",
          "Others",
          "Central",
          "Others",
          "Central",
          "Others",
          "Others",
          "Central",
          "Others",
          "Central",
          "Others",
          "Central",
          "Central",
          "Central",
          "Others",
          "Others",
          "Others",
          "Central",
          "Others",
          "Central",
          "Central",
          "Central",
          "Central",
          "Central",
          "Others",
          "Central",
          "Others",
          "Central",
          "Others",
          "Others",
          "Central",
          "Others",
          "Others",
          "Central",
          "Others",
          "Central",
          "Central",
          "Central",
          "Central",
          "Central",
          "Others",
          "Others",
          "Central",
          "Others",
          "Central",
          "Others",
          "Central",
          "Others",
          "Others",
          "Central",
          "Others",
          "Central",
          "Others",
          "Others",
          "Central",
          "Central",
          "Central",
          "Central",
          "Central",
          "Central",
          "Central",
          "Central",
          "Central",
          "Others",
          "Central",
          "Central",
          "Others",
          "Others",
          "Others",
          "Central",
          "Central",
          "Central",
          "Others",
          "Others",
          "Central",
          "Central",
          "Others",
          "Central",
          "Central",
          "Central",
          "Central",
          "Others",
          "Central",
          "Central",
          "Central",
          "Others",
          "Central",
          "Central",
          "Central",
          "Others",
          "Central",
          "Others",
          "Others",
          "Central",
          "Others",
          "Central",
          "Central",
          "Others",
          "Others",
          "Central",
          "Others",
          "Central",
          "Others",
          "Others",
          "Central",
          "Central",
          "Others",
          "Others",
          "Others",
          "Others",
          "Others",
          "Others",
          "Central",
          "Central",
          "Central",
          "Central",
          "Central",
          "Central",
          "Central",
          "Others",
          "Central",
          "Others",
          "Central",
          "Others",
          "Central",
          "Others",
          "Others",
          "Central",
          "Others",
          "Others",
          "Central",
          "Central",
          "Central",
          "Central",
          "Others",
          "Others",
          "Others",
          "Central",
          "Central",
          "Others",
          "Central",
          "Others",
          "Others",
          "Others",
          "Central",
          "Central",
          "Others",
          "Others",
          "Central",
          "Central",
          "Central",
          "Others",
          "Central",
          "Central",
          "Others",
          "Central",
          "Central",
          "Others",
          "Central",
          "Others",
          "Others",
          "Others",
          "Others",
          "Central",
          "Others",
          "Central",
          "Central",
          "Central",
          "Others",
          "Central",
          "Central",
          "Others",
          "Central",
          "Central",
          "Others",
          "Central",
          "Others",
          "Others",
          "Central",
          "Others",
          "Central",
          "Central",
          "Central",
          "Others",
          "Others",
          "Central",
          "Central",
          "Central",
          "Central",
          "Central",
          "Central",
          "Central",
          "Central",
          "Central",
          "Central",
          "Central",
          "Others",
          "Central",
          "Central",
          "Central",
          "Central",
          "Others",
          "Others",
          "Central",
          "Others",
          "Central",
          "Central",
          "Central",
          "Others",
          "Others",
          "Central",
          "Central",
          "Central",
          "Others",
          "Central",
          "Central",
          "Others",
          "Others",
          "Central",
          "Central",
          "Others",
          "Others",
          "Central",
          "Others",
          "Others",
          "Central",
          "Others",
          "Central",
          "Central",
          "Central",
          "Others",
          "Central",
          "Central",
          "Central",
          "Central",
          "Central",
          "Central",
          "Others",
          "Others",
          "Central",
          "Others",
          "Others",
          "Others",
          "Central",
          "Central",
          "Central",
          "Central",
          "Central",
          "Central",
          "Central",
          "Central",
          "Others",
          "Others",
          "Central",
          "Central",
          "Others",
          "Central",
          "Central",
          "Central",
          "Central",
          "Central",
          "Others",
          "Central",
          "Others",
          "Central",
          "Central",
          "Others",
          "Central",
          "Central",
          "Central",
          "Central",
          "Central",
          "Others",
          "Central",
          "Central",
          "Others",
          "Others",
          "Others",
          "Others",
          "Central",
          "Others",
          "Central",
          "Central",
          "Central",
          "Others",
          "Central",
          "Central",
          "Central",
          "Central",
          "Central",
          "Others",
          "Central",
          "Central",
          "Central",
          "Others",
          "Others",
          "Others",
          "Central",
          "Others",
          "Others",
          "Central",
          "Others",
          "Central",
          "Central",
          "Central",
          "Central",
          "Central",
          "Central",
          "Others",
          "Central",
          "Central",
          "Central",
          "Central",
          "Central",
          "Others",
          "Central",
          "Central",
          "Central",
          "Others",
          "Others",
          "Others",
          "Others",
          "Central",
          "Others",
          "Central",
          "Central",
          "Central",
          "Others",
          "Central",
          "Others",
          "Others",
          "Others",
          "Others",
          "Central",
          "Central",
          "Others",
          "Central",
          "Others",
          "Others",
          "Central",
          "Others",
          "Others",
          "Central",
          "Central",
          "Others",
          "Central",
          "Central",
          "Central",
          "Others",
          "Central",
          "Central",
          "Others",
          "Others",
          "Others",
          "Central",
          "Others",
          "Others",
          "Others",
          "Others",
          "Central",
          "Central",
          "Central",
          "Central",
          "Others",
          "Central",
          "Others",
          "Others",
          "Central",
          "Central",
          "Others",
          "Others",
          "Central",
          "Central",
          "Others",
          "Others",
          "Others",
          "Others",
          "Central",
          "Others",
          "Central",
          "Central",
          "Central",
          "Central",
          "Central",
          "Central",
          "Central",
          "Central",
          "Central",
          "Central",
          "Central",
          "Others",
          "Others",
          "Central",
          "Others",
          "Central",
          "Central",
          "Central",
          "Central",
          "Central",
          "Others",
          "Central",
          "Others",
          "Others",
          "Others",
          "Others",
          "Central",
          "Others",
          "Central",
          "Others",
          "Others",
          "Central",
          "Others",
          "Central",
          "Central",
          "Central",
          "Others",
          "Central",
          "Central",
          "Others",
          "Central",
          "Central",
          "Others",
          "Central",
          "Others",
          "Central",
          "Central",
          "Others",
          "Others",
          "Others",
          "Others",
          "Central",
          "Others",
          "Others",
          "Central",
          "Others",
          "Central",
          "Others",
          "Others",
          "Others",
          "Central",
          "Others",
          "Others",
          "Central",
          "Central",
          "Others",
          "Central",
          "Central",
          "Others",
          "Central",
          "Central",
          "Others",
          "Others",
          "Others",
          "Others",
          "Central",
          "Central",
          "Central",
          "Others",
          "Central",
          "Others",
          "Central",
          "Central",
          "Central",
          "Central",
          "Others",
          "Others",
          "Central",
          "Central",
          "Central",
          "Central",
          "Central",
          "Central",
          "Others",
          "Central",
          "Others",
          "Others",
          "Central",
          "Others",
          "Others",
          "Others",
          "Others",
          "Others",
          "Others",
          "Central",
          "Central",
          "Central",
          "Others",
          "Central",
          "Central",
          "Central",
          "Central",
          "Central",
          "Others",
          "Central",
          "Others",
          "Others",
          "Central",
          "Others",
          "Central",
          "Central",
          "Others",
          "Central",
          "Others",
          "Others",
          "Central",
          "Central",
          "Central",
          "Central",
          "Others",
          "Central",
          "Central",
          "Central",
          "Others",
          "Others",
          "Central",
          "Others",
          "Central",
          "Central",
          "Central",
          "Central",
          "Others",
          "Others",
          "Others",
          "Others",
          "Central",
          "Others",
          "Others",
          "Others",
          "Others",
          "Central",
          "Others",
          "Others",
          "Others",
          "Others",
          "Central",
          "Others",
          "Central",
          "Others",
          "Central",
          "Others",
          "Others",
          "Central",
          "Others",
          "Others",
          "Central",
          "Central",
          "Central",
          "Central",
          "Central",
          "Others",
          "Others",
          "Central",
          "Central",
          "Central",
          "Others",
          "Others",
          "Others",
          "Others",
          "Central",
          "Others",
          "Central",
          "Central",
          "Others",
          "Others",
          "Others",
          "Central",
          "Central",
          "Central",
          "Central",
          "Central",
          "Central",
          "Others",
          "Others",
          "Others",
          "Others",
          "Others",
          "Others",
          "Others",
          "Central",
          "Central",
          "Central",
          "Others",
          "Central"
         ],
         "legendgroup": "",
         "name": "",
         "showlegend": true,
         "type": "pie"
        }
       ],
       "layout": {
        "legend": {
         "tracegroupgap": 0
        },
        "template": {
         "data": {
          "bar": [
           {
            "error_x": {
             "color": "#2a3f5f"
            },
            "error_y": {
             "color": "#2a3f5f"
            },
            "marker": {
             "line": {
              "color": "#E5ECF6",
              "width": 0.5
             },
             "pattern": {
              "fillmode": "overlay",
              "size": 10,
              "solidity": 0.2
             }
            },
            "type": "bar"
           }
          ],
          "barpolar": [
           {
            "marker": {
             "line": {
              "color": "#E5ECF6",
              "width": 0.5
             },
             "pattern": {
              "fillmode": "overlay",
              "size": 10,
              "solidity": 0.2
             }
            },
            "type": "barpolar"
           }
          ],
          "carpet": [
           {
            "aaxis": {
             "endlinecolor": "#2a3f5f",
             "gridcolor": "white",
             "linecolor": "white",
             "minorgridcolor": "white",
             "startlinecolor": "#2a3f5f"
            },
            "baxis": {
             "endlinecolor": "#2a3f5f",
             "gridcolor": "white",
             "linecolor": "white",
             "minorgridcolor": "white",
             "startlinecolor": "#2a3f5f"
            },
            "type": "carpet"
           }
          ],
          "choropleth": [
           {
            "colorbar": {
             "outlinewidth": 0,
             "ticks": ""
            },
            "type": "choropleth"
           }
          ],
          "contour": [
           {
            "colorbar": {
             "outlinewidth": 0,
             "ticks": ""
            },
            "colorscale": [
             [
              0,
              "#0d0887"
             ],
             [
              0.1111111111111111,
              "#46039f"
             ],
             [
              0.2222222222222222,
              "#7201a8"
             ],
             [
              0.3333333333333333,
              "#9c179e"
             ],
             [
              0.4444444444444444,
              "#bd3786"
             ],
             [
              0.5555555555555556,
              "#d8576b"
             ],
             [
              0.6666666666666666,
              "#ed7953"
             ],
             [
              0.7777777777777778,
              "#fb9f3a"
             ],
             [
              0.8888888888888888,
              "#fdca26"
             ],
             [
              1,
              "#f0f921"
             ]
            ],
            "type": "contour"
           }
          ],
          "contourcarpet": [
           {
            "colorbar": {
             "outlinewidth": 0,
             "ticks": ""
            },
            "type": "contourcarpet"
           }
          ],
          "heatmap": [
           {
            "colorbar": {
             "outlinewidth": 0,
             "ticks": ""
            },
            "colorscale": [
             [
              0,
              "#0d0887"
             ],
             [
              0.1111111111111111,
              "#46039f"
             ],
             [
              0.2222222222222222,
              "#7201a8"
             ],
             [
              0.3333333333333333,
              "#9c179e"
             ],
             [
              0.4444444444444444,
              "#bd3786"
             ],
             [
              0.5555555555555556,
              "#d8576b"
             ],
             [
              0.6666666666666666,
              "#ed7953"
             ],
             [
              0.7777777777777778,
              "#fb9f3a"
             ],
             [
              0.8888888888888888,
              "#fdca26"
             ],
             [
              1,
              "#f0f921"
             ]
            ],
            "type": "heatmap"
           }
          ],
          "heatmapgl": [
           {
            "colorbar": {
             "outlinewidth": 0,
             "ticks": ""
            },
            "colorscale": [
             [
              0,
              "#0d0887"
             ],
             [
              0.1111111111111111,
              "#46039f"
             ],
             [
              0.2222222222222222,
              "#7201a8"
             ],
             [
              0.3333333333333333,
              "#9c179e"
             ],
             [
              0.4444444444444444,
              "#bd3786"
             ],
             [
              0.5555555555555556,
              "#d8576b"
             ],
             [
              0.6666666666666666,
              "#ed7953"
             ],
             [
              0.7777777777777778,
              "#fb9f3a"
             ],
             [
              0.8888888888888888,
              "#fdca26"
             ],
             [
              1,
              "#f0f921"
             ]
            ],
            "type": "heatmapgl"
           }
          ],
          "histogram": [
           {
            "marker": {
             "pattern": {
              "fillmode": "overlay",
              "size": 10,
              "solidity": 0.2
             }
            },
            "type": "histogram"
           }
          ],
          "histogram2d": [
           {
            "colorbar": {
             "outlinewidth": 0,
             "ticks": ""
            },
            "colorscale": [
             [
              0,
              "#0d0887"
             ],
             [
              0.1111111111111111,
              "#46039f"
             ],
             [
              0.2222222222222222,
              "#7201a8"
             ],
             [
              0.3333333333333333,
              "#9c179e"
             ],
             [
              0.4444444444444444,
              "#bd3786"
             ],
             [
              0.5555555555555556,
              "#d8576b"
             ],
             [
              0.6666666666666666,
              "#ed7953"
             ],
             [
              0.7777777777777778,
              "#fb9f3a"
             ],
             [
              0.8888888888888888,
              "#fdca26"
             ],
             [
              1,
              "#f0f921"
             ]
            ],
            "type": "histogram2d"
           }
          ],
          "histogram2dcontour": [
           {
            "colorbar": {
             "outlinewidth": 0,
             "ticks": ""
            },
            "colorscale": [
             [
              0,
              "#0d0887"
             ],
             [
              0.1111111111111111,
              "#46039f"
             ],
             [
              0.2222222222222222,
              "#7201a8"
             ],
             [
              0.3333333333333333,
              "#9c179e"
             ],
             [
              0.4444444444444444,
              "#bd3786"
             ],
             [
              0.5555555555555556,
              "#d8576b"
             ],
             [
              0.6666666666666666,
              "#ed7953"
             ],
             [
              0.7777777777777778,
              "#fb9f3a"
             ],
             [
              0.8888888888888888,
              "#fdca26"
             ],
             [
              1,
              "#f0f921"
             ]
            ],
            "type": "histogram2dcontour"
           }
          ],
          "mesh3d": [
           {
            "colorbar": {
             "outlinewidth": 0,
             "ticks": ""
            },
            "type": "mesh3d"
           }
          ],
          "parcoords": [
           {
            "line": {
             "colorbar": {
              "outlinewidth": 0,
              "ticks": ""
             }
            },
            "type": "parcoords"
           }
          ],
          "pie": [
           {
            "automargin": true,
            "type": "pie"
           }
          ],
          "scatter": [
           {
            "fillpattern": {
             "fillmode": "overlay",
             "size": 10,
             "solidity": 0.2
            },
            "type": "scatter"
           }
          ],
          "scatter3d": [
           {
            "line": {
             "colorbar": {
              "outlinewidth": 0,
              "ticks": ""
             }
            },
            "marker": {
             "colorbar": {
              "outlinewidth": 0,
              "ticks": ""
             }
            },
            "type": "scatter3d"
           }
          ],
          "scattercarpet": [
           {
            "marker": {
             "colorbar": {
              "outlinewidth": 0,
              "ticks": ""
             }
            },
            "type": "scattercarpet"
           }
          ],
          "scattergeo": [
           {
            "marker": {
             "colorbar": {
              "outlinewidth": 0,
              "ticks": ""
             }
            },
            "type": "scattergeo"
           }
          ],
          "scattergl": [
           {
            "marker": {
             "colorbar": {
              "outlinewidth": 0,
              "ticks": ""
             }
            },
            "type": "scattergl"
           }
          ],
          "scattermapbox": [
           {
            "marker": {
             "colorbar": {
              "outlinewidth": 0,
              "ticks": ""
             }
            },
            "type": "scattermapbox"
           }
          ],
          "scatterpolar": [
           {
            "marker": {
             "colorbar": {
              "outlinewidth": 0,
              "ticks": ""
             }
            },
            "type": "scatterpolar"
           }
          ],
          "scatterpolargl": [
           {
            "marker": {
             "colorbar": {
              "outlinewidth": 0,
              "ticks": ""
             }
            },
            "type": "scatterpolargl"
           }
          ],
          "scatterternary": [
           {
            "marker": {
             "colorbar": {
              "outlinewidth": 0,
              "ticks": ""
             }
            },
            "type": "scatterternary"
           }
          ],
          "surface": [
           {
            "colorbar": {
             "outlinewidth": 0,
             "ticks": ""
            },
            "colorscale": [
             [
              0,
              "#0d0887"
             ],
             [
              0.1111111111111111,
              "#46039f"
             ],
             [
              0.2222222222222222,
              "#7201a8"
             ],
             [
              0.3333333333333333,
              "#9c179e"
             ],
             [
              0.4444444444444444,
              "#bd3786"
             ],
             [
              0.5555555555555556,
              "#d8576b"
             ],
             [
              0.6666666666666666,
              "#ed7953"
             ],
             [
              0.7777777777777778,
              "#fb9f3a"
             ],
             [
              0.8888888888888888,
              "#fdca26"
             ],
             [
              1,
              "#f0f921"
             ]
            ],
            "type": "surface"
           }
          ],
          "table": [
           {
            "cells": {
             "fill": {
              "color": "#EBF0F8"
             },
             "line": {
              "color": "white"
             }
            },
            "header": {
             "fill": {
              "color": "#C8D4E3"
             },
             "line": {
              "color": "white"
             }
            },
            "type": "table"
           }
          ]
         },
         "layout": {
          "annotationdefaults": {
           "arrowcolor": "#2a3f5f",
           "arrowhead": 0,
           "arrowwidth": 1
          },
          "autotypenumbers": "strict",
          "coloraxis": {
           "colorbar": {
            "outlinewidth": 0,
            "ticks": ""
           }
          },
          "colorscale": {
           "diverging": [
            [
             0,
             "#8e0152"
            ],
            [
             0.1,
             "#c51b7d"
            ],
            [
             0.2,
             "#de77ae"
            ],
            [
             0.3,
             "#f1b6da"
            ],
            [
             0.4,
             "#fde0ef"
            ],
            [
             0.5,
             "#f7f7f7"
            ],
            [
             0.6,
             "#e6f5d0"
            ],
            [
             0.7,
             "#b8e186"
            ],
            [
             0.8,
             "#7fbc41"
            ],
            [
             0.9,
             "#4d9221"
            ],
            [
             1,
             "#276419"
            ]
           ],
           "sequential": [
            [
             0,
             "#0d0887"
            ],
            [
             0.1111111111111111,
             "#46039f"
            ],
            [
             0.2222222222222222,
             "#7201a8"
            ],
            [
             0.3333333333333333,
             "#9c179e"
            ],
            [
             0.4444444444444444,
             "#bd3786"
            ],
            [
             0.5555555555555556,
             "#d8576b"
            ],
            [
             0.6666666666666666,
             "#ed7953"
            ],
            [
             0.7777777777777778,
             "#fb9f3a"
            ],
            [
             0.8888888888888888,
             "#fdca26"
            ],
            [
             1,
             "#f0f921"
            ]
           ],
           "sequentialminus": [
            [
             0,
             "#0d0887"
            ],
            [
             0.1111111111111111,
             "#46039f"
            ],
            [
             0.2222222222222222,
             "#7201a8"
            ],
            [
             0.3333333333333333,
             "#9c179e"
            ],
            [
             0.4444444444444444,
             "#bd3786"
            ],
            [
             0.5555555555555556,
             "#d8576b"
            ],
            [
             0.6666666666666666,
             "#ed7953"
            ],
            [
             0.7777777777777778,
             "#fb9f3a"
            ],
            [
             0.8888888888888888,
             "#fdca26"
            ],
            [
             1,
             "#f0f921"
            ]
           ]
          },
          "colorway": [
           "#636efa",
           "#EF553B",
           "#00cc96",
           "#ab63fa",
           "#FFA15A",
           "#19d3f3",
           "#FF6692",
           "#B6E880",
           "#FF97FF",
           "#FECB52"
          ],
          "font": {
           "color": "#2a3f5f"
          },
          "geo": {
           "bgcolor": "white",
           "lakecolor": "white",
           "landcolor": "#E5ECF6",
           "showlakes": true,
           "showland": true,
           "subunitcolor": "white"
          },
          "hoverlabel": {
           "align": "left"
          },
          "hovermode": "closest",
          "mapbox": {
           "style": "light"
          },
          "paper_bgcolor": "white",
          "plot_bgcolor": "#E5ECF6",
          "polar": {
           "angularaxis": {
            "gridcolor": "white",
            "linecolor": "white",
            "ticks": ""
           },
           "bgcolor": "#E5ECF6",
           "radialaxis": {
            "gridcolor": "white",
            "linecolor": "white",
            "ticks": ""
           }
          },
          "scene": {
           "xaxis": {
            "backgroundcolor": "#E5ECF6",
            "gridcolor": "white",
            "gridwidth": 2,
            "linecolor": "white",
            "showbackground": true,
            "ticks": "",
            "zerolinecolor": "white"
           },
           "yaxis": {
            "backgroundcolor": "#E5ECF6",
            "gridcolor": "white",
            "gridwidth": 2,
            "linecolor": "white",
            "showbackground": true,
            "ticks": "",
            "zerolinecolor": "white"
           },
           "zaxis": {
            "backgroundcolor": "#E5ECF6",
            "gridcolor": "white",
            "gridwidth": 2,
            "linecolor": "white",
            "showbackground": true,
            "ticks": "",
            "zerolinecolor": "white"
           }
          },
          "shapedefaults": {
           "line": {
            "color": "#2a3f5f"
           }
          },
          "ternary": {
           "aaxis": {
            "gridcolor": "white",
            "linecolor": "white",
            "ticks": ""
           },
           "baxis": {
            "gridcolor": "white",
            "linecolor": "white",
            "ticks": ""
           },
           "bgcolor": "#E5ECF6",
           "caxis": {
            "gridcolor": "white",
            "linecolor": "white",
            "ticks": ""
           }
          },
          "title": {
           "x": 0.05
          },
          "xaxis": {
           "automargin": true,
           "gridcolor": "white",
           "linecolor": "white",
           "ticks": "",
           "title": {
            "standoff": 15
           },
           "zerolinecolor": "white",
           "zerolinewidth": 2
          },
          "yaxis": {
           "automargin": true,
           "gridcolor": "white",
           "linecolor": "white",
           "ticks": "",
           "title": {
            "standoff": 15
           },
           "zerolinecolor": "white",
           "zerolinewidth": 2
          }
         }
        },
        "title": {
         "text": "dob in sse"
        }
       }
      }
     },
     "metadata": {},
     "output_type": "display_data"
    }
   ],
   "source": [
    "px.pie(data_frame=df , names='ssc_b',title='dob in sse')"
   ]
  },
  {
   "cell_type": "code",
   "execution_count": 150,
   "metadata": {},
   "outputs": [
    {
     "data": {
      "application/vnd.plotly.v1+json": {
       "config": {
        "plotlyServerURL": "https://plot.ly"
       },
       "data": [
        {
         "domain": {
          "x": [
           0,
           1
          ],
          "y": [
           0,
           1
          ]
         },
         "hovertemplate": "hsc_b=%{label}<extra></extra>",
         "labels": [
          "Others",
          "Others",
          "Others",
          "Others",
          "Central",
          "Others",
          "Others",
          "Others",
          "Others",
          "Others",
          "Others",
          "Central",
          "Others",
          "Others",
          "Central",
          "Others",
          "Central",
          "Others",
          "Central",
          "Others",
          "Others",
          "Others",
          "Others",
          "Others",
          "Others",
          "Others",
          "Central",
          "Central",
          "Central",
          "Others",
          "Central",
          "Others",
          "Others",
          "Others",
          "Central",
          "Others",
          "Central",
          "Central",
          "Others",
          "Central",
          "Others",
          "Others",
          "Others",
          "Central",
          "Others",
          "Others",
          "Others",
          "Others",
          "Others",
          "Others",
          "Central",
          "Central",
          "Central",
          "Others",
          "Central",
          "Others",
          "Central",
          "Others",
          "Others",
          "Others",
          "Others",
          "Others",
          "Others",
          "Others",
          "Others",
          "Others",
          "Others",
          "Others",
          "Central",
          "Others",
          "Others",
          "Central",
          "Others",
          "Central",
          "Central",
          "Others",
          "Others",
          "Others",
          "Others",
          "Others",
          "Central",
          "Others",
          "Others",
          "Central",
          "Central",
          "Others",
          "Others",
          "Central",
          "Others",
          "Others",
          "Others",
          "Others",
          "Others",
          "Others",
          "Central",
          "Others",
          "Central",
          "Others",
          "Others",
          "Central",
          "Central",
          "Others",
          "Others",
          "Others",
          "Central",
          "Others",
          "Others",
          "Central",
          "Central",
          "Others",
          "Others",
          "Others",
          "Central",
          "Others",
          "Others",
          "Central",
          "Others",
          "Central",
          "Others",
          "Others",
          "Others",
          "Others",
          "Central",
          "Others",
          "Others",
          "Central",
          "Central",
          "Others",
          "Others",
          "Others",
          "Others",
          "Others",
          "Others",
          "Central",
          "Others",
          "Others",
          "Central",
          "Others",
          "Central",
          "Central",
          "Others",
          "Central",
          "Others",
          "Central",
          "Others",
          "Others",
          "Central",
          "Central",
          "Central",
          "Central",
          "Others",
          "Others",
          "Central",
          "Others",
          "Others",
          "Others",
          "Others",
          "Central",
          "Central",
          "Others",
          "Others",
          "Others",
          "Central",
          "Others",
          "Others",
          "Central",
          "Central",
          "Central",
          "Others",
          "Others",
          "Central",
          "Central",
          "Others",
          "Central",
          "Others",
          "Central",
          "Others",
          "Central",
          "Others",
          "Others",
          "Central",
          "Others",
          "Others",
          "Others",
          "Others",
          "Others",
          "Central",
          "Others",
          "Central",
          "Others",
          "Others",
          "Central",
          "Others",
          "Others",
          "Others",
          "Others",
          "Others",
          "Others",
          "Others",
          "Others",
          "Central",
          "Central",
          "Others",
          "Central",
          "Central",
          "Others",
          "Others",
          "Others",
          "Others",
          "Others",
          "Others",
          "Central",
          "Others",
          "Others",
          "Central",
          "Others",
          "Others",
          "Central",
          "Others",
          "Others",
          "Central",
          "Others",
          "Others",
          "Others",
          "Others",
          "Others",
          "Others",
          "Central",
          "Others",
          "Others",
          "Others",
          "Others",
          "Others",
          "Others",
          "Others",
          "Central",
          "Central",
          "Others",
          "Others",
          "Central",
          "Others",
          "Others",
          "Central",
          "Central",
          "Others",
          "Others",
          "Others",
          "Others",
          "Others",
          "Others",
          "Central",
          "Others",
          "Central",
          "Central",
          "Others",
          "Others",
          "Others",
          "Central",
          "Others",
          "Central",
          "Central",
          "Others",
          "Others",
          "Others",
          "Others",
          "Central",
          "Others",
          "Others",
          "Central",
          "Others",
          "Others",
          "Others",
          "Others",
          "Central",
          "Central",
          "Central",
          "Central",
          "Central",
          "Others",
          "Central",
          "Others",
          "Others",
          "Others",
          "Others",
          "Central",
          "Others",
          "Central",
          "Central",
          "Others",
          "Others",
          "Central",
          "Others",
          "Central",
          "Central",
          "Others",
          "Others",
          "Others",
          "Central",
          "Others",
          "Others",
          "Others",
          "Central",
          "Others",
          "Others",
          "Others",
          "Central",
          "Central",
          "Others",
          "Others",
          "Central",
          "Others",
          "Others",
          "Central",
          "Central",
          "Others",
          "Central",
          "Others",
          "Others",
          "Central",
          "Central",
          "Others",
          "Others",
          "Central",
          "Central",
          "Others",
          "Others",
          "Central",
          "Others",
          "Others",
          "Others",
          "Others",
          "Central",
          "Others",
          "Others",
          "Central",
          "Central",
          "Central",
          "Central",
          "Others",
          "Others",
          "Others",
          "Central",
          "Others",
          "Others",
          "Others",
          "Central",
          "Central",
          "Central",
          "Central",
          "Central",
          "Others",
          "Central",
          "Others",
          "Others",
          "Central",
          "Others",
          "Others",
          "Central",
          "Others",
          "Others",
          "Central",
          "Central",
          "Others",
          "Others",
          "Others",
          "Others",
          "Central",
          "Others",
          "Central",
          "Others",
          "Others",
          "Others",
          "Central",
          "Central",
          "Central",
          "Central",
          "Central",
          "Others",
          "Central",
          "Central",
          "Central",
          "Others",
          "Others",
          "Others",
          "Others",
          "Others",
          "Others",
          "Central",
          "Others",
          "Others",
          "Central",
          "Central",
          "Central",
          "Central",
          "Central",
          "Others",
          "Central",
          "Central",
          "Central",
          "Central",
          "Others",
          "Others",
          "Central",
          "Central",
          "Others",
          "Others",
          "Others",
          "Others",
          "Others",
          "Others",
          "Others",
          "Central",
          "Others",
          "Others",
          "Others",
          "Others",
          "Others",
          "Others",
          "Others",
          "Others",
          "Central",
          "Central",
          "Others",
          "Central",
          "Others",
          "Others",
          "Central",
          "Others",
          "Others",
          "Others",
          "Central",
          "Others",
          "Others",
          "Central",
          "Others",
          "Others",
          "Others",
          "Others",
          "Others",
          "Others",
          "Others",
          "Central",
          "Others",
          "Others",
          "Others",
          "Others",
          "Others",
          "Central",
          "Central",
          "Central",
          "Others",
          "Others",
          "Others",
          "Others",
          "Others",
          "Central",
          "Others",
          "Others",
          "Others",
          "Central",
          "Others",
          "Others",
          "Others",
          "Others",
          "Others",
          "Others",
          "Central",
          "Central",
          "Central",
          "Central",
          "Central",
          "Central",
          "Central",
          "Central",
          "Others",
          "Central",
          "Others",
          "Others",
          "Others",
          "Central",
          "Others",
          "Central",
          "Central",
          "Central",
          "Central",
          "Central",
          "Others",
          "Central",
          "Others",
          "Others",
          "Others",
          "Others",
          "Central",
          "Others",
          "Central",
          "Others",
          "Others",
          "Others",
          "Others",
          "Others",
          "Central",
          "Others",
          "Others",
          "Others",
          "Others",
          "Others",
          "Central",
          "Central",
          "Others",
          "Others",
          "Others",
          "Central",
          "Central",
          "Others",
          "Others",
          "Others",
          "Others",
          "Central",
          "Others",
          "Others",
          "Central",
          "Others",
          "Central",
          "Others",
          "Others",
          "Others",
          "Others",
          "Others",
          "Others",
          "Central",
          "Others",
          "Others",
          "Central",
          "Others",
          "Others",
          "Central",
          "Central",
          "Others",
          "Others",
          "Others",
          "Others",
          "Central",
          "Central",
          "Central",
          "Others",
          "Central",
          "Others",
          "Central",
          "Central",
          "Central",
          "Central",
          "Others",
          "Others",
          "Central",
          "Central",
          "Others",
          "Others",
          "Others",
          "Central",
          "Others",
          "Central",
          "Others",
          "Others",
          "Central",
          "Others",
          "Others",
          "Others",
          "Others",
          "Others",
          "Others",
          "Central",
          "Others",
          "Central",
          "Others",
          "Central",
          "Others",
          "Central",
          "Others",
          "Central",
          "Central",
          "Others",
          "Others",
          "Others",
          "Others",
          "Others",
          "Central",
          "Central",
          "Others",
          "Central",
          "Others",
          "Others",
          "Central",
          "Others",
          "Central",
          "Central",
          "Others",
          "Central",
          "Others",
          "Central",
          "Others",
          "Others",
          "Others",
          "Others",
          "Others",
          "Central",
          "Central",
          "Others",
          "Others",
          "Others",
          "Others",
          "Others",
          "Others",
          "Others",
          "Others",
          "Others",
          "Others",
          "Central",
          "Others",
          "Central",
          "Others",
          "Others",
          "Central",
          "Others",
          "Central",
          "Others",
          "Others",
          "Others",
          "Others",
          "Others",
          "Others",
          "Others",
          "Others",
          "Others",
          "Central",
          "Others",
          "Central",
          "Others",
          "Others",
          "Others",
          "Central",
          "Others",
          "Others",
          "Others",
          "Others",
          "Others",
          "Others",
          "Others",
          "Central",
          "Central",
          "Others",
          "Others",
          "Others",
          "Central",
          "Central",
          "Central",
          "Others",
          "Central",
          "Others",
          "Others",
          "Others",
          "Others",
          "Others",
          "Others",
          "Others",
          "Others",
          "Central",
          "Central",
          "Others",
          "Others",
          "Others"
         ],
         "legendgroup": "",
         "name": "",
         "showlegend": true,
         "type": "pie"
        }
       ],
       "layout": {
        "legend": {
         "tracegroupgap": 0
        },
        "template": {
         "data": {
          "bar": [
           {
            "error_x": {
             "color": "#2a3f5f"
            },
            "error_y": {
             "color": "#2a3f5f"
            },
            "marker": {
             "line": {
              "color": "#E5ECF6",
              "width": 0.5
             },
             "pattern": {
              "fillmode": "overlay",
              "size": 10,
              "solidity": 0.2
             }
            },
            "type": "bar"
           }
          ],
          "barpolar": [
           {
            "marker": {
             "line": {
              "color": "#E5ECF6",
              "width": 0.5
             },
             "pattern": {
              "fillmode": "overlay",
              "size": 10,
              "solidity": 0.2
             }
            },
            "type": "barpolar"
           }
          ],
          "carpet": [
           {
            "aaxis": {
             "endlinecolor": "#2a3f5f",
             "gridcolor": "white",
             "linecolor": "white",
             "minorgridcolor": "white",
             "startlinecolor": "#2a3f5f"
            },
            "baxis": {
             "endlinecolor": "#2a3f5f",
             "gridcolor": "white",
             "linecolor": "white",
             "minorgridcolor": "white",
             "startlinecolor": "#2a3f5f"
            },
            "type": "carpet"
           }
          ],
          "choropleth": [
           {
            "colorbar": {
             "outlinewidth": 0,
             "ticks": ""
            },
            "type": "choropleth"
           }
          ],
          "contour": [
           {
            "colorbar": {
             "outlinewidth": 0,
             "ticks": ""
            },
            "colorscale": [
             [
              0,
              "#0d0887"
             ],
             [
              0.1111111111111111,
              "#46039f"
             ],
             [
              0.2222222222222222,
              "#7201a8"
             ],
             [
              0.3333333333333333,
              "#9c179e"
             ],
             [
              0.4444444444444444,
              "#bd3786"
             ],
             [
              0.5555555555555556,
              "#d8576b"
             ],
             [
              0.6666666666666666,
              "#ed7953"
             ],
             [
              0.7777777777777778,
              "#fb9f3a"
             ],
             [
              0.8888888888888888,
              "#fdca26"
             ],
             [
              1,
              "#f0f921"
             ]
            ],
            "type": "contour"
           }
          ],
          "contourcarpet": [
           {
            "colorbar": {
             "outlinewidth": 0,
             "ticks": ""
            },
            "type": "contourcarpet"
           }
          ],
          "heatmap": [
           {
            "colorbar": {
             "outlinewidth": 0,
             "ticks": ""
            },
            "colorscale": [
             [
              0,
              "#0d0887"
             ],
             [
              0.1111111111111111,
              "#46039f"
             ],
             [
              0.2222222222222222,
              "#7201a8"
             ],
             [
              0.3333333333333333,
              "#9c179e"
             ],
             [
              0.4444444444444444,
              "#bd3786"
             ],
             [
              0.5555555555555556,
              "#d8576b"
             ],
             [
              0.6666666666666666,
              "#ed7953"
             ],
             [
              0.7777777777777778,
              "#fb9f3a"
             ],
             [
              0.8888888888888888,
              "#fdca26"
             ],
             [
              1,
              "#f0f921"
             ]
            ],
            "type": "heatmap"
           }
          ],
          "heatmapgl": [
           {
            "colorbar": {
             "outlinewidth": 0,
             "ticks": ""
            },
            "colorscale": [
             [
              0,
              "#0d0887"
             ],
             [
              0.1111111111111111,
              "#46039f"
             ],
             [
              0.2222222222222222,
              "#7201a8"
             ],
             [
              0.3333333333333333,
              "#9c179e"
             ],
             [
              0.4444444444444444,
              "#bd3786"
             ],
             [
              0.5555555555555556,
              "#d8576b"
             ],
             [
              0.6666666666666666,
              "#ed7953"
             ],
             [
              0.7777777777777778,
              "#fb9f3a"
             ],
             [
              0.8888888888888888,
              "#fdca26"
             ],
             [
              1,
              "#f0f921"
             ]
            ],
            "type": "heatmapgl"
           }
          ],
          "histogram": [
           {
            "marker": {
             "pattern": {
              "fillmode": "overlay",
              "size": 10,
              "solidity": 0.2
             }
            },
            "type": "histogram"
           }
          ],
          "histogram2d": [
           {
            "colorbar": {
             "outlinewidth": 0,
             "ticks": ""
            },
            "colorscale": [
             [
              0,
              "#0d0887"
             ],
             [
              0.1111111111111111,
              "#46039f"
             ],
             [
              0.2222222222222222,
              "#7201a8"
             ],
             [
              0.3333333333333333,
              "#9c179e"
             ],
             [
              0.4444444444444444,
              "#bd3786"
             ],
             [
              0.5555555555555556,
              "#d8576b"
             ],
             [
              0.6666666666666666,
              "#ed7953"
             ],
             [
              0.7777777777777778,
              "#fb9f3a"
             ],
             [
              0.8888888888888888,
              "#fdca26"
             ],
             [
              1,
              "#f0f921"
             ]
            ],
            "type": "histogram2d"
           }
          ],
          "histogram2dcontour": [
           {
            "colorbar": {
             "outlinewidth": 0,
             "ticks": ""
            },
            "colorscale": [
             [
              0,
              "#0d0887"
             ],
             [
              0.1111111111111111,
              "#46039f"
             ],
             [
              0.2222222222222222,
              "#7201a8"
             ],
             [
              0.3333333333333333,
              "#9c179e"
             ],
             [
              0.4444444444444444,
              "#bd3786"
             ],
             [
              0.5555555555555556,
              "#d8576b"
             ],
             [
              0.6666666666666666,
              "#ed7953"
             ],
             [
              0.7777777777777778,
              "#fb9f3a"
             ],
             [
              0.8888888888888888,
              "#fdca26"
             ],
             [
              1,
              "#f0f921"
             ]
            ],
            "type": "histogram2dcontour"
           }
          ],
          "mesh3d": [
           {
            "colorbar": {
             "outlinewidth": 0,
             "ticks": ""
            },
            "type": "mesh3d"
           }
          ],
          "parcoords": [
           {
            "line": {
             "colorbar": {
              "outlinewidth": 0,
              "ticks": ""
             }
            },
            "type": "parcoords"
           }
          ],
          "pie": [
           {
            "automargin": true,
            "type": "pie"
           }
          ],
          "scatter": [
           {
            "fillpattern": {
             "fillmode": "overlay",
             "size": 10,
             "solidity": 0.2
            },
            "type": "scatter"
           }
          ],
          "scatter3d": [
           {
            "line": {
             "colorbar": {
              "outlinewidth": 0,
              "ticks": ""
             }
            },
            "marker": {
             "colorbar": {
              "outlinewidth": 0,
              "ticks": ""
             }
            },
            "type": "scatter3d"
           }
          ],
          "scattercarpet": [
           {
            "marker": {
             "colorbar": {
              "outlinewidth": 0,
              "ticks": ""
             }
            },
            "type": "scattercarpet"
           }
          ],
          "scattergeo": [
           {
            "marker": {
             "colorbar": {
              "outlinewidth": 0,
              "ticks": ""
             }
            },
            "type": "scattergeo"
           }
          ],
          "scattergl": [
           {
            "marker": {
             "colorbar": {
              "outlinewidth": 0,
              "ticks": ""
             }
            },
            "type": "scattergl"
           }
          ],
          "scattermapbox": [
           {
            "marker": {
             "colorbar": {
              "outlinewidth": 0,
              "ticks": ""
             }
            },
            "type": "scattermapbox"
           }
          ],
          "scatterpolar": [
           {
            "marker": {
             "colorbar": {
              "outlinewidth": 0,
              "ticks": ""
             }
            },
            "type": "scatterpolar"
           }
          ],
          "scatterpolargl": [
           {
            "marker": {
             "colorbar": {
              "outlinewidth": 0,
              "ticks": ""
             }
            },
            "type": "scatterpolargl"
           }
          ],
          "scatterternary": [
           {
            "marker": {
             "colorbar": {
              "outlinewidth": 0,
              "ticks": ""
             }
            },
            "type": "scatterternary"
           }
          ],
          "surface": [
           {
            "colorbar": {
             "outlinewidth": 0,
             "ticks": ""
            },
            "colorscale": [
             [
              0,
              "#0d0887"
             ],
             [
              0.1111111111111111,
              "#46039f"
             ],
             [
              0.2222222222222222,
              "#7201a8"
             ],
             [
              0.3333333333333333,
              "#9c179e"
             ],
             [
              0.4444444444444444,
              "#bd3786"
             ],
             [
              0.5555555555555556,
              "#d8576b"
             ],
             [
              0.6666666666666666,
              "#ed7953"
             ],
             [
              0.7777777777777778,
              "#fb9f3a"
             ],
             [
              0.8888888888888888,
              "#fdca26"
             ],
             [
              1,
              "#f0f921"
             ]
            ],
            "type": "surface"
           }
          ],
          "table": [
           {
            "cells": {
             "fill": {
              "color": "#EBF0F8"
             },
             "line": {
              "color": "white"
             }
            },
            "header": {
             "fill": {
              "color": "#C8D4E3"
             },
             "line": {
              "color": "white"
             }
            },
            "type": "table"
           }
          ]
         },
         "layout": {
          "annotationdefaults": {
           "arrowcolor": "#2a3f5f",
           "arrowhead": 0,
           "arrowwidth": 1
          },
          "autotypenumbers": "strict",
          "coloraxis": {
           "colorbar": {
            "outlinewidth": 0,
            "ticks": ""
           }
          },
          "colorscale": {
           "diverging": [
            [
             0,
             "#8e0152"
            ],
            [
             0.1,
             "#c51b7d"
            ],
            [
             0.2,
             "#de77ae"
            ],
            [
             0.3,
             "#f1b6da"
            ],
            [
             0.4,
             "#fde0ef"
            ],
            [
             0.5,
             "#f7f7f7"
            ],
            [
             0.6,
             "#e6f5d0"
            ],
            [
             0.7,
             "#b8e186"
            ],
            [
             0.8,
             "#7fbc41"
            ],
            [
             0.9,
             "#4d9221"
            ],
            [
             1,
             "#276419"
            ]
           ],
           "sequential": [
            [
             0,
             "#0d0887"
            ],
            [
             0.1111111111111111,
             "#46039f"
            ],
            [
             0.2222222222222222,
             "#7201a8"
            ],
            [
             0.3333333333333333,
             "#9c179e"
            ],
            [
             0.4444444444444444,
             "#bd3786"
            ],
            [
             0.5555555555555556,
             "#d8576b"
            ],
            [
             0.6666666666666666,
             "#ed7953"
            ],
            [
             0.7777777777777778,
             "#fb9f3a"
            ],
            [
             0.8888888888888888,
             "#fdca26"
            ],
            [
             1,
             "#f0f921"
            ]
           ],
           "sequentialminus": [
            [
             0,
             "#0d0887"
            ],
            [
             0.1111111111111111,
             "#46039f"
            ],
            [
             0.2222222222222222,
             "#7201a8"
            ],
            [
             0.3333333333333333,
             "#9c179e"
            ],
            [
             0.4444444444444444,
             "#bd3786"
            ],
            [
             0.5555555555555556,
             "#d8576b"
            ],
            [
             0.6666666666666666,
             "#ed7953"
            ],
            [
             0.7777777777777778,
             "#fb9f3a"
            ],
            [
             0.8888888888888888,
             "#fdca26"
            ],
            [
             1,
             "#f0f921"
            ]
           ]
          },
          "colorway": [
           "#636efa",
           "#EF553B",
           "#00cc96",
           "#ab63fa",
           "#FFA15A",
           "#19d3f3",
           "#FF6692",
           "#B6E880",
           "#FF97FF",
           "#FECB52"
          ],
          "font": {
           "color": "#2a3f5f"
          },
          "geo": {
           "bgcolor": "white",
           "lakecolor": "white",
           "landcolor": "#E5ECF6",
           "showlakes": true,
           "showland": true,
           "subunitcolor": "white"
          },
          "hoverlabel": {
           "align": "left"
          },
          "hovermode": "closest",
          "mapbox": {
           "style": "light"
          },
          "paper_bgcolor": "white",
          "plot_bgcolor": "#E5ECF6",
          "polar": {
           "angularaxis": {
            "gridcolor": "white",
            "linecolor": "white",
            "ticks": ""
           },
           "bgcolor": "#E5ECF6",
           "radialaxis": {
            "gridcolor": "white",
            "linecolor": "white",
            "ticks": ""
           }
          },
          "scene": {
           "xaxis": {
            "backgroundcolor": "#E5ECF6",
            "gridcolor": "white",
            "gridwidth": 2,
            "linecolor": "white",
            "showbackground": true,
            "ticks": "",
            "zerolinecolor": "white"
           },
           "yaxis": {
            "backgroundcolor": "#E5ECF6",
            "gridcolor": "white",
            "gridwidth": 2,
            "linecolor": "white",
            "showbackground": true,
            "ticks": "",
            "zerolinecolor": "white"
           },
           "zaxis": {
            "backgroundcolor": "#E5ECF6",
            "gridcolor": "white",
            "gridwidth": 2,
            "linecolor": "white",
            "showbackground": true,
            "ticks": "",
            "zerolinecolor": "white"
           }
          },
          "shapedefaults": {
           "line": {
            "color": "#2a3f5f"
           }
          },
          "ternary": {
           "aaxis": {
            "gridcolor": "white",
            "linecolor": "white",
            "ticks": ""
           },
           "baxis": {
            "gridcolor": "white",
            "linecolor": "white",
            "ticks": ""
           },
           "bgcolor": "#E5ECF6",
           "caxis": {
            "gridcolor": "white",
            "linecolor": "white",
            "ticks": ""
           }
          },
          "title": {
           "x": 0.05
          },
          "xaxis": {
           "automargin": true,
           "gridcolor": "white",
           "linecolor": "white",
           "ticks": "",
           "title": {
            "standoff": 15
           },
           "zerolinecolor": "white",
           "zerolinewidth": 2
          },
          "yaxis": {
           "automargin": true,
           "gridcolor": "white",
           "linecolor": "white",
           "ticks": "",
           "title": {
            "standoff": 15
           },
           "zerolinecolor": "white",
           "zerolinewidth": 2
          }
         }
        },
        "title": {
         "text": " dob in higher secondary education"
        }
       }
      }
     },
     "metadata": {},
     "output_type": "display_data"
    }
   ],
   "source": [
    "px.pie(data_frame=df , names='hsc_b',title= ' dob in higher secondary education')"
   ]
  },
  {
   "cell_type": "code",
   "execution_count": 151,
   "metadata": {},
   "outputs": [
    {
     "data": {
      "application/vnd.plotly.v1+json": {
       "config": {
        "plotlyServerURL": "https://plot.ly"
       },
       "data": [
        {
         "domain": {
          "x": [
           0,
           1
          ],
          "y": [
           0,
           1
          ]
         },
         "hovertemplate": "ssc_b=%{label}<extra></extra>",
         "labels": [
          "Central",
          "Others",
          "Others",
          "Others",
          "Central",
          "Others",
          "Others",
          "Central",
          "Central",
          "Others",
          "Others",
          "Central",
          "Others",
          "Central",
          "Central",
          "Others",
          "Others",
          "Others",
          "Central",
          "Others",
          "Others",
          "Others",
          "Others",
          "Central",
          "Others",
          "Central",
          "Central",
          "Central",
          "Central",
          "Central",
          "Central",
          "Central",
          "Others",
          "Others",
          "Central",
          "Central",
          "Central",
          "Central",
          "Others",
          "Central",
          "Central",
          "Central",
          "Central",
          "Central",
          "Central",
          "Central",
          "Others",
          "Others",
          "Others",
          "Others",
          "Central",
          "Central",
          "Central",
          "Central",
          "Central",
          "Others",
          "Central",
          "Central",
          "Others",
          "Others",
          "Others",
          "Central",
          "Others",
          "Others",
          "Central",
          "Others",
          "Central",
          "Central",
          "Central",
          "Central",
          "Central",
          "Central",
          "Central",
          "Central",
          "Central",
          "Central",
          "Central",
          "Others",
          "Others",
          "Central",
          "Central",
          "Others",
          "Others",
          "Central",
          "Central",
          "Others",
          "Others",
          "Central",
          "Others",
          "Central",
          "Others",
          "Central",
          "Others",
          "Others",
          "Central",
          "Others",
          "Central",
          "Others",
          "Central",
          "Central",
          "Central",
          "Others",
          "Others",
          "Others",
          "Central",
          "Others",
          "Central",
          "Central",
          "Central",
          "Central",
          "Central",
          "Others",
          "Central",
          "Others",
          "Central",
          "Others",
          "Others",
          "Central",
          "Others",
          "Others",
          "Central",
          "Others",
          "Central",
          "Central",
          "Central",
          "Central",
          "Central",
          "Others",
          "Others",
          "Central",
          "Others",
          "Central",
          "Others",
          "Central",
          "Others",
          "Others",
          "Central",
          "Others",
          "Central",
          "Others",
          "Others",
          "Central",
          "Central",
          "Central",
          "Central",
          "Central",
          "Central",
          "Central",
          "Central",
          "Central",
          "Others",
          "Central",
          "Central",
          "Others",
          "Others",
          "Others",
          "Central",
          "Central",
          "Central",
          "Others",
          "Others",
          "Central",
          "Central",
          "Others",
          "Central",
          "Central",
          "Central",
          "Central",
          "Others",
          "Central",
          "Central",
          "Central",
          "Others",
          "Central",
          "Central",
          "Central",
          "Others",
          "Central",
          "Others",
          "Others",
          "Central",
          "Others",
          "Central",
          "Central",
          "Others",
          "Others",
          "Central",
          "Others",
          "Central",
          "Others",
          "Others",
          "Central",
          "Central",
          "Others",
          "Others",
          "Others",
          "Others",
          "Others",
          "Others",
          "Central",
          "Central",
          "Central",
          "Central",
          "Central",
          "Central",
          "Central",
          "Others",
          "Central",
          "Others",
          "Central",
          "Others",
          "Central",
          "Others",
          "Others",
          "Central",
          "Others",
          "Others",
          "Central",
          "Central",
          "Central",
          "Central",
          "Others",
          "Others",
          "Others",
          "Central",
          "Central",
          "Others",
          "Central",
          "Others",
          "Others",
          "Others",
          "Central",
          "Central",
          "Others",
          "Others",
          "Central",
          "Central",
          "Central",
          "Others",
          "Central",
          "Central",
          "Others",
          "Central",
          "Central",
          "Others",
          "Central",
          "Others",
          "Others",
          "Others",
          "Others",
          "Central",
          "Others",
          "Central",
          "Central",
          "Central",
          "Others",
          "Central",
          "Central",
          "Others",
          "Central",
          "Central",
          "Others",
          "Central",
          "Others",
          "Others",
          "Central",
          "Others",
          "Central",
          "Central",
          "Central",
          "Others",
          "Others",
          "Central",
          "Central",
          "Central",
          "Central",
          "Central",
          "Central",
          "Central",
          "Central",
          "Central",
          "Central",
          "Central",
          "Others",
          "Central",
          "Central",
          "Central",
          "Central",
          "Others",
          "Others",
          "Central",
          "Others",
          "Central",
          "Central",
          "Central",
          "Others",
          "Others",
          "Central",
          "Central",
          "Central",
          "Others",
          "Central",
          "Central",
          "Others",
          "Others",
          "Central",
          "Central",
          "Others",
          "Others",
          "Central",
          "Others",
          "Others",
          "Central",
          "Others",
          "Central",
          "Central",
          "Central",
          "Others",
          "Central",
          "Central",
          "Central",
          "Central",
          "Central",
          "Central",
          "Others",
          "Others",
          "Central",
          "Others",
          "Others",
          "Others",
          "Central",
          "Central",
          "Central",
          "Central",
          "Central",
          "Central",
          "Central",
          "Central",
          "Others",
          "Others",
          "Central",
          "Central",
          "Others",
          "Central",
          "Central",
          "Central",
          "Central",
          "Central",
          "Others",
          "Central",
          "Others",
          "Central",
          "Central",
          "Others",
          "Central",
          "Central",
          "Central",
          "Central",
          "Central",
          "Others",
          "Central",
          "Central",
          "Others",
          "Others",
          "Others",
          "Others",
          "Central",
          "Others",
          "Central",
          "Central",
          "Central",
          "Others",
          "Central",
          "Central",
          "Central",
          "Central",
          "Central",
          "Others",
          "Central",
          "Central",
          "Central",
          "Others",
          "Others",
          "Others",
          "Central",
          "Others",
          "Others",
          "Central",
          "Others",
          "Central",
          "Central",
          "Central",
          "Central",
          "Central",
          "Central",
          "Others",
          "Central",
          "Central",
          "Central",
          "Central",
          "Central",
          "Others",
          "Central",
          "Central",
          "Central",
          "Others",
          "Others",
          "Others",
          "Others",
          "Central",
          "Others",
          "Central",
          "Central",
          "Central",
          "Others",
          "Central",
          "Others",
          "Others",
          "Others",
          "Others",
          "Central",
          "Central",
          "Others",
          "Central",
          "Others",
          "Others",
          "Central",
          "Others",
          "Others",
          "Central",
          "Central",
          "Others",
          "Central",
          "Central",
          "Central",
          "Others",
          "Central",
          "Central",
          "Others",
          "Others",
          "Others",
          "Central",
          "Others",
          "Others",
          "Others",
          "Others",
          "Central",
          "Central",
          "Central",
          "Central",
          "Others",
          "Central",
          "Others",
          "Others",
          "Central",
          "Central",
          "Others",
          "Others",
          "Central",
          "Central",
          "Others",
          "Others",
          "Others",
          "Others",
          "Central",
          "Others",
          "Central",
          "Central",
          "Central",
          "Central",
          "Central",
          "Central",
          "Central",
          "Central",
          "Central",
          "Central",
          "Central",
          "Others",
          "Others",
          "Central",
          "Others",
          "Central",
          "Central",
          "Central",
          "Central",
          "Central",
          "Others",
          "Central",
          "Others",
          "Others",
          "Others",
          "Others",
          "Central",
          "Others",
          "Central",
          "Others",
          "Others",
          "Central",
          "Others",
          "Central",
          "Central",
          "Central",
          "Others",
          "Central",
          "Central",
          "Others",
          "Central",
          "Central",
          "Others",
          "Central",
          "Others",
          "Central",
          "Central",
          "Others",
          "Others",
          "Others",
          "Others",
          "Central",
          "Others",
          "Others",
          "Central",
          "Others",
          "Central",
          "Others",
          "Others",
          "Others",
          "Central",
          "Others",
          "Others",
          "Central",
          "Central",
          "Others",
          "Central",
          "Central",
          "Others",
          "Central",
          "Central",
          "Others",
          "Others",
          "Others",
          "Others",
          "Central",
          "Central",
          "Central",
          "Others",
          "Central",
          "Others",
          "Central",
          "Central",
          "Central",
          "Central",
          "Others",
          "Others",
          "Central",
          "Central",
          "Central",
          "Central",
          "Central",
          "Central",
          "Others",
          "Central",
          "Others",
          "Others",
          "Central",
          "Others",
          "Others",
          "Others",
          "Others",
          "Others",
          "Others",
          "Central",
          "Central",
          "Central",
          "Others",
          "Central",
          "Central",
          "Central",
          "Central",
          "Central",
          "Others",
          "Central",
          "Others",
          "Others",
          "Central",
          "Others",
          "Central",
          "Central",
          "Others",
          "Central",
          "Others",
          "Others",
          "Central",
          "Central",
          "Central",
          "Central",
          "Others",
          "Central",
          "Central",
          "Central",
          "Others",
          "Others",
          "Central",
          "Others",
          "Central",
          "Central",
          "Central",
          "Central",
          "Others",
          "Others",
          "Others",
          "Others",
          "Central",
          "Others",
          "Others",
          "Others",
          "Others",
          "Central",
          "Others",
          "Others",
          "Others",
          "Others",
          "Central",
          "Others",
          "Central",
          "Others",
          "Central",
          "Others",
          "Others",
          "Central",
          "Others",
          "Others",
          "Central",
          "Central",
          "Central",
          "Central",
          "Central",
          "Others",
          "Others",
          "Central",
          "Central",
          "Central",
          "Others",
          "Others",
          "Others",
          "Others",
          "Central",
          "Others",
          "Central",
          "Central",
          "Others",
          "Others",
          "Others",
          "Central",
          "Central",
          "Central",
          "Central",
          "Central",
          "Central",
          "Others",
          "Others",
          "Others",
          "Others",
          "Others",
          "Others",
          "Others",
          "Central",
          "Central",
          "Central",
          "Others",
          "Central"
         ],
         "legendgroup": "",
         "name": "",
         "showlegend": true,
         "type": "pie"
        }
       ],
       "layout": {
        "legend": {
         "tracegroupgap": 0
        },
        "template": {
         "data": {
          "bar": [
           {
            "error_x": {
             "color": "#2a3f5f"
            },
            "error_y": {
             "color": "#2a3f5f"
            },
            "marker": {
             "line": {
              "color": "#E5ECF6",
              "width": 0.5
             },
             "pattern": {
              "fillmode": "overlay",
              "size": 10,
              "solidity": 0.2
             }
            },
            "type": "bar"
           }
          ],
          "barpolar": [
           {
            "marker": {
             "line": {
              "color": "#E5ECF6",
              "width": 0.5
             },
             "pattern": {
              "fillmode": "overlay",
              "size": 10,
              "solidity": 0.2
             }
            },
            "type": "barpolar"
           }
          ],
          "carpet": [
           {
            "aaxis": {
             "endlinecolor": "#2a3f5f",
             "gridcolor": "white",
             "linecolor": "white",
             "minorgridcolor": "white",
             "startlinecolor": "#2a3f5f"
            },
            "baxis": {
             "endlinecolor": "#2a3f5f",
             "gridcolor": "white",
             "linecolor": "white",
             "minorgridcolor": "white",
             "startlinecolor": "#2a3f5f"
            },
            "type": "carpet"
           }
          ],
          "choropleth": [
           {
            "colorbar": {
             "outlinewidth": 0,
             "ticks": ""
            },
            "type": "choropleth"
           }
          ],
          "contour": [
           {
            "colorbar": {
             "outlinewidth": 0,
             "ticks": ""
            },
            "colorscale": [
             [
              0,
              "#0d0887"
             ],
             [
              0.1111111111111111,
              "#46039f"
             ],
             [
              0.2222222222222222,
              "#7201a8"
             ],
             [
              0.3333333333333333,
              "#9c179e"
             ],
             [
              0.4444444444444444,
              "#bd3786"
             ],
             [
              0.5555555555555556,
              "#d8576b"
             ],
             [
              0.6666666666666666,
              "#ed7953"
             ],
             [
              0.7777777777777778,
              "#fb9f3a"
             ],
             [
              0.8888888888888888,
              "#fdca26"
             ],
             [
              1,
              "#f0f921"
             ]
            ],
            "type": "contour"
           }
          ],
          "contourcarpet": [
           {
            "colorbar": {
             "outlinewidth": 0,
             "ticks": ""
            },
            "type": "contourcarpet"
           }
          ],
          "heatmap": [
           {
            "colorbar": {
             "outlinewidth": 0,
             "ticks": ""
            },
            "colorscale": [
             [
              0,
              "#0d0887"
             ],
             [
              0.1111111111111111,
              "#46039f"
             ],
             [
              0.2222222222222222,
              "#7201a8"
             ],
             [
              0.3333333333333333,
              "#9c179e"
             ],
             [
              0.4444444444444444,
              "#bd3786"
             ],
             [
              0.5555555555555556,
              "#d8576b"
             ],
             [
              0.6666666666666666,
              "#ed7953"
             ],
             [
              0.7777777777777778,
              "#fb9f3a"
             ],
             [
              0.8888888888888888,
              "#fdca26"
             ],
             [
              1,
              "#f0f921"
             ]
            ],
            "type": "heatmap"
           }
          ],
          "heatmapgl": [
           {
            "colorbar": {
             "outlinewidth": 0,
             "ticks": ""
            },
            "colorscale": [
             [
              0,
              "#0d0887"
             ],
             [
              0.1111111111111111,
              "#46039f"
             ],
             [
              0.2222222222222222,
              "#7201a8"
             ],
             [
              0.3333333333333333,
              "#9c179e"
             ],
             [
              0.4444444444444444,
              "#bd3786"
             ],
             [
              0.5555555555555556,
              "#d8576b"
             ],
             [
              0.6666666666666666,
              "#ed7953"
             ],
             [
              0.7777777777777778,
              "#fb9f3a"
             ],
             [
              0.8888888888888888,
              "#fdca26"
             ],
             [
              1,
              "#f0f921"
             ]
            ],
            "type": "heatmapgl"
           }
          ],
          "histogram": [
           {
            "marker": {
             "pattern": {
              "fillmode": "overlay",
              "size": 10,
              "solidity": 0.2
             }
            },
            "type": "histogram"
           }
          ],
          "histogram2d": [
           {
            "colorbar": {
             "outlinewidth": 0,
             "ticks": ""
            },
            "colorscale": [
             [
              0,
              "#0d0887"
             ],
             [
              0.1111111111111111,
              "#46039f"
             ],
             [
              0.2222222222222222,
              "#7201a8"
             ],
             [
              0.3333333333333333,
              "#9c179e"
             ],
             [
              0.4444444444444444,
              "#bd3786"
             ],
             [
              0.5555555555555556,
              "#d8576b"
             ],
             [
              0.6666666666666666,
              "#ed7953"
             ],
             [
              0.7777777777777778,
              "#fb9f3a"
             ],
             [
              0.8888888888888888,
              "#fdca26"
             ],
             [
              1,
              "#f0f921"
             ]
            ],
            "type": "histogram2d"
           }
          ],
          "histogram2dcontour": [
           {
            "colorbar": {
             "outlinewidth": 0,
             "ticks": ""
            },
            "colorscale": [
             [
              0,
              "#0d0887"
             ],
             [
              0.1111111111111111,
              "#46039f"
             ],
             [
              0.2222222222222222,
              "#7201a8"
             ],
             [
              0.3333333333333333,
              "#9c179e"
             ],
             [
              0.4444444444444444,
              "#bd3786"
             ],
             [
              0.5555555555555556,
              "#d8576b"
             ],
             [
              0.6666666666666666,
              "#ed7953"
             ],
             [
              0.7777777777777778,
              "#fb9f3a"
             ],
             [
              0.8888888888888888,
              "#fdca26"
             ],
             [
              1,
              "#f0f921"
             ]
            ],
            "type": "histogram2dcontour"
           }
          ],
          "mesh3d": [
           {
            "colorbar": {
             "outlinewidth": 0,
             "ticks": ""
            },
            "type": "mesh3d"
           }
          ],
          "parcoords": [
           {
            "line": {
             "colorbar": {
              "outlinewidth": 0,
              "ticks": ""
             }
            },
            "type": "parcoords"
           }
          ],
          "pie": [
           {
            "automargin": true,
            "type": "pie"
           }
          ],
          "scatter": [
           {
            "fillpattern": {
             "fillmode": "overlay",
             "size": 10,
             "solidity": 0.2
            },
            "type": "scatter"
           }
          ],
          "scatter3d": [
           {
            "line": {
             "colorbar": {
              "outlinewidth": 0,
              "ticks": ""
             }
            },
            "marker": {
             "colorbar": {
              "outlinewidth": 0,
              "ticks": ""
             }
            },
            "type": "scatter3d"
           }
          ],
          "scattercarpet": [
           {
            "marker": {
             "colorbar": {
              "outlinewidth": 0,
              "ticks": ""
             }
            },
            "type": "scattercarpet"
           }
          ],
          "scattergeo": [
           {
            "marker": {
             "colorbar": {
              "outlinewidth": 0,
              "ticks": ""
             }
            },
            "type": "scattergeo"
           }
          ],
          "scattergl": [
           {
            "marker": {
             "colorbar": {
              "outlinewidth": 0,
              "ticks": ""
             }
            },
            "type": "scattergl"
           }
          ],
          "scattermapbox": [
           {
            "marker": {
             "colorbar": {
              "outlinewidth": 0,
              "ticks": ""
             }
            },
            "type": "scattermapbox"
           }
          ],
          "scatterpolar": [
           {
            "marker": {
             "colorbar": {
              "outlinewidth": 0,
              "ticks": ""
             }
            },
            "type": "scatterpolar"
           }
          ],
          "scatterpolargl": [
           {
            "marker": {
             "colorbar": {
              "outlinewidth": 0,
              "ticks": ""
             }
            },
            "type": "scatterpolargl"
           }
          ],
          "scatterternary": [
           {
            "marker": {
             "colorbar": {
              "outlinewidth": 0,
              "ticks": ""
             }
            },
            "type": "scatterternary"
           }
          ],
          "surface": [
           {
            "colorbar": {
             "outlinewidth": 0,
             "ticks": ""
            },
            "colorscale": [
             [
              0,
              "#0d0887"
             ],
             [
              0.1111111111111111,
              "#46039f"
             ],
             [
              0.2222222222222222,
              "#7201a8"
             ],
             [
              0.3333333333333333,
              "#9c179e"
             ],
             [
              0.4444444444444444,
              "#bd3786"
             ],
             [
              0.5555555555555556,
              "#d8576b"
             ],
             [
              0.6666666666666666,
              "#ed7953"
             ],
             [
              0.7777777777777778,
              "#fb9f3a"
             ],
             [
              0.8888888888888888,
              "#fdca26"
             ],
             [
              1,
              "#f0f921"
             ]
            ],
            "type": "surface"
           }
          ],
          "table": [
           {
            "cells": {
             "fill": {
              "color": "#EBF0F8"
             },
             "line": {
              "color": "white"
             }
            },
            "header": {
             "fill": {
              "color": "#C8D4E3"
             },
             "line": {
              "color": "white"
             }
            },
            "type": "table"
           }
          ]
         },
         "layout": {
          "annotationdefaults": {
           "arrowcolor": "#2a3f5f",
           "arrowhead": 0,
           "arrowwidth": 1
          },
          "autotypenumbers": "strict",
          "coloraxis": {
           "colorbar": {
            "outlinewidth": 0,
            "ticks": ""
           }
          },
          "colorscale": {
           "diverging": [
            [
             0,
             "#8e0152"
            ],
            [
             0.1,
             "#c51b7d"
            ],
            [
             0.2,
             "#de77ae"
            ],
            [
             0.3,
             "#f1b6da"
            ],
            [
             0.4,
             "#fde0ef"
            ],
            [
             0.5,
             "#f7f7f7"
            ],
            [
             0.6,
             "#e6f5d0"
            ],
            [
             0.7,
             "#b8e186"
            ],
            [
             0.8,
             "#7fbc41"
            ],
            [
             0.9,
             "#4d9221"
            ],
            [
             1,
             "#276419"
            ]
           ],
           "sequential": [
            [
             0,
             "#0d0887"
            ],
            [
             0.1111111111111111,
             "#46039f"
            ],
            [
             0.2222222222222222,
             "#7201a8"
            ],
            [
             0.3333333333333333,
             "#9c179e"
            ],
            [
             0.4444444444444444,
             "#bd3786"
            ],
            [
             0.5555555555555556,
             "#d8576b"
            ],
            [
             0.6666666666666666,
             "#ed7953"
            ],
            [
             0.7777777777777778,
             "#fb9f3a"
            ],
            [
             0.8888888888888888,
             "#fdca26"
            ],
            [
             1,
             "#f0f921"
            ]
           ],
           "sequentialminus": [
            [
             0,
             "#0d0887"
            ],
            [
             0.1111111111111111,
             "#46039f"
            ],
            [
             0.2222222222222222,
             "#7201a8"
            ],
            [
             0.3333333333333333,
             "#9c179e"
            ],
            [
             0.4444444444444444,
             "#bd3786"
            ],
            [
             0.5555555555555556,
             "#d8576b"
            ],
            [
             0.6666666666666666,
             "#ed7953"
            ],
            [
             0.7777777777777778,
             "#fb9f3a"
            ],
            [
             0.8888888888888888,
             "#fdca26"
            ],
            [
             1,
             "#f0f921"
            ]
           ]
          },
          "colorway": [
           "#636efa",
           "#EF553B",
           "#00cc96",
           "#ab63fa",
           "#FFA15A",
           "#19d3f3",
           "#FF6692",
           "#B6E880",
           "#FF97FF",
           "#FECB52"
          ],
          "font": {
           "color": "#2a3f5f"
          },
          "geo": {
           "bgcolor": "white",
           "lakecolor": "white",
           "landcolor": "#E5ECF6",
           "showlakes": true,
           "showland": true,
           "subunitcolor": "white"
          },
          "hoverlabel": {
           "align": "left"
          },
          "hovermode": "closest",
          "mapbox": {
           "style": "light"
          },
          "paper_bgcolor": "white",
          "plot_bgcolor": "#E5ECF6",
          "polar": {
           "angularaxis": {
            "gridcolor": "white",
            "linecolor": "white",
            "ticks": ""
           },
           "bgcolor": "#E5ECF6",
           "radialaxis": {
            "gridcolor": "white",
            "linecolor": "white",
            "ticks": ""
           }
          },
          "scene": {
           "xaxis": {
            "backgroundcolor": "#E5ECF6",
            "gridcolor": "white",
            "gridwidth": 2,
            "linecolor": "white",
            "showbackground": true,
            "ticks": "",
            "zerolinecolor": "white"
           },
           "yaxis": {
            "backgroundcolor": "#E5ECF6",
            "gridcolor": "white",
            "gridwidth": 2,
            "linecolor": "white",
            "showbackground": true,
            "ticks": "",
            "zerolinecolor": "white"
           },
           "zaxis": {
            "backgroundcolor": "#E5ECF6",
            "gridcolor": "white",
            "gridwidth": 2,
            "linecolor": "white",
            "showbackground": true,
            "ticks": "",
            "zerolinecolor": "white"
           }
          },
          "shapedefaults": {
           "line": {
            "color": "#2a3f5f"
           }
          },
          "ternary": {
           "aaxis": {
            "gridcolor": "white",
            "linecolor": "white",
            "ticks": ""
           },
           "baxis": {
            "gridcolor": "white",
            "linecolor": "white",
            "ticks": ""
           },
           "bgcolor": "#E5ECF6",
           "caxis": {
            "gridcolor": "white",
            "linecolor": "white",
            "ticks": ""
           }
          },
          "title": {
           "x": 0.05
          },
          "xaxis": {
           "automargin": true,
           "gridcolor": "white",
           "linecolor": "white",
           "ticks": "",
           "title": {
            "standoff": 15
           },
           "zerolinecolor": "white",
           "zerolinewidth": 2
          },
          "yaxis": {
           "automargin": true,
           "gridcolor": "white",
           "linecolor": "white",
           "ticks": "",
           "title": {
            "standoff": 15
           },
           "zerolinecolor": "white",
           "zerolinewidth": 2
          }
         }
        },
        "title": {
         "text": " distribution of ssc"
        }
       }
      }
     },
     "metadata": {},
     "output_type": "display_data"
    }
   ],
   "source": [
    "px.pie(data_frame=df , names='ssc_b',title= ' distribution of ssc')"
   ]
  },
  {
   "cell_type": "code",
   "execution_count": 152,
   "metadata": {},
   "outputs": [
    {
     "data": {
      "text/html": [
       "<div>\n",
       "<style scoped>\n",
       "    .dataframe tbody tr th:only-of-type {\n",
       "        vertical-align: middle;\n",
       "    }\n",
       "\n",
       "    .dataframe tbody tr th {\n",
       "        vertical-align: top;\n",
       "    }\n",
       "\n",
       "    .dataframe thead th {\n",
       "        text-align: right;\n",
       "    }\n",
       "</style>\n",
       "<table border=\"1\" class=\"dataframe\">\n",
       "  <thead>\n",
       "    <tr style=\"text-align: right;\">\n",
       "      <th></th>\n",
       "      <th>gender</th>\n",
       "      <th>ssc_p</th>\n",
       "      <th>ssc_b</th>\n",
       "      <th>hsc_p</th>\n",
       "      <th>hsc_b</th>\n",
       "      <th>hsc_s</th>\n",
       "      <th>degree_p</th>\n",
       "      <th>degree_t</th>\n",
       "      <th>etest_p</th>\n",
       "      <th>mba_p</th>\n",
       "      <th>specialisation</th>\n",
       "      <th>workex</th>\n",
       "      <th>status</th>\n",
       "    </tr>\n",
       "  </thead>\n",
       "  <tbody>\n",
       "    <tr>\n",
       "      <th>0</th>\n",
       "      <td>M</td>\n",
       "      <td>73.976975</td>\n",
       "      <td>Central</td>\n",
       "      <td>77.392691</td>\n",
       "      <td>Others</td>\n",
       "      <td>Science</td>\n",
       "      <td>73.623151</td>\n",
       "      <td>Sci&amp;Tech</td>\n",
       "      <td>84.498310</td>\n",
       "      <td>67.207006</td>\n",
       "      <td>Mkt&amp;HR</td>\n",
       "      <td>Yes</td>\n",
       "      <td>Placed</td>\n",
       "    </tr>\n",
       "    <tr>\n",
       "      <th>1</th>\n",
       "      <td>M</td>\n",
       "      <td>62.000000</td>\n",
       "      <td>Others</td>\n",
       "      <td>62.000000</td>\n",
       "      <td>Others</td>\n",
       "      <td>Commerce</td>\n",
       "      <td>60.000000</td>\n",
       "      <td>Comm&amp;Mgmt</td>\n",
       "      <td>63.000000</td>\n",
       "      <td>52.380000</td>\n",
       "      <td>Mkt&amp;HR</td>\n",
       "      <td>Yes</td>\n",
       "      <td>Placed</td>\n",
       "    </tr>\n",
       "    <tr>\n",
       "      <th>2</th>\n",
       "      <td>M</td>\n",
       "      <td>80.965242</td>\n",
       "      <td>Others</td>\n",
       "      <td>67.104275</td>\n",
       "      <td>Others</td>\n",
       "      <td>Science</td>\n",
       "      <td>72.482621</td>\n",
       "      <td>Sci&amp;Tech</td>\n",
       "      <td>91.343588</td>\n",
       "      <td>71.392313</td>\n",
       "      <td>Mkt&amp;Fin</td>\n",
       "      <td>No</td>\n",
       "      <td>Placed</td>\n",
       "    </tr>\n",
       "    <tr>\n",
       "      <th>3</th>\n",
       "      <td>M</td>\n",
       "      <td>52.000000</td>\n",
       "      <td>Others</td>\n",
       "      <td>65.000000</td>\n",
       "      <td>Others</td>\n",
       "      <td>Arts</td>\n",
       "      <td>57.000000</td>\n",
       "      <td>Others</td>\n",
       "      <td>75.000000</td>\n",
       "      <td>59.810000</td>\n",
       "      <td>Mkt&amp;Fin</td>\n",
       "      <td>Yes</td>\n",
       "      <td>Not Placed</td>\n",
       "    </tr>\n",
       "    <tr>\n",
       "      <th>4</th>\n",
       "      <td>F</td>\n",
       "      <td>69.000000</td>\n",
       "      <td>Central</td>\n",
       "      <td>62.000000</td>\n",
       "      <td>Central</td>\n",
       "      <td>Science</td>\n",
       "      <td>66.000000</td>\n",
       "      <td>Sci&amp;Tech</td>\n",
       "      <td>75.000000</td>\n",
       "      <td>67.990000</td>\n",
       "      <td>Mkt&amp;HR</td>\n",
       "      <td>No</td>\n",
       "      <td>Not Placed</td>\n",
       "    </tr>\n",
       "  </tbody>\n",
       "</table>\n",
       "</div>"
      ],
      "text/plain": [
       "  gender      ssc_p    ssc_b      hsc_p    hsc_b     hsc_s   degree_p  \\\n",
       "0      M  73.976975  Central  77.392691   Others   Science  73.623151   \n",
       "1      M  62.000000   Others  62.000000   Others  Commerce  60.000000   \n",
       "2      M  80.965242   Others  67.104275   Others   Science  72.482621   \n",
       "3      M  52.000000   Others  65.000000   Others      Arts  57.000000   \n",
       "4      F  69.000000  Central  62.000000  Central   Science  66.000000   \n",
       "\n",
       "    degree_t    etest_p      mba_p specialisation workex      status  \n",
       "0   Sci&Tech  84.498310  67.207006         Mkt&HR    Yes      Placed  \n",
       "1  Comm&Mgmt  63.000000  52.380000         Mkt&HR    Yes      Placed  \n",
       "2   Sci&Tech  91.343588  71.392313        Mkt&Fin     No      Placed  \n",
       "3     Others  75.000000  59.810000        Mkt&Fin    Yes  Not Placed  \n",
       "4   Sci&Tech  75.000000  67.990000         Mkt&HR     No  Not Placed  "
      ]
     },
     "execution_count": 152,
     "metadata": {},
     "output_type": "execute_result"
    }
   ],
   "source": [
    "df.head()"
   ]
  },
  {
   "cell_type": "code",
   "execution_count": 153,
   "metadata": {},
   "outputs": [
    {
     "data": {
      "text/html": [
       "<div>\n",
       "<style scoped>\n",
       "    .dataframe tbody tr th:only-of-type {\n",
       "        vertical-align: middle;\n",
       "    }\n",
       "\n",
       "    .dataframe tbody tr th {\n",
       "        vertical-align: top;\n",
       "    }\n",
       "\n",
       "    .dataframe thead th {\n",
       "        text-align: right;\n",
       "    }\n",
       "</style>\n",
       "<table border=\"1\" class=\"dataframe\">\n",
       "  <thead>\n",
       "    <tr style=\"text-align: right;\">\n",
       "      <th></th>\n",
       "      <th>gender</th>\n",
       "      <th>ssc_p</th>\n",
       "      <th>ssc_b</th>\n",
       "      <th>hsc_p</th>\n",
       "      <th>hsc_b</th>\n",
       "      <th>hsc_s</th>\n",
       "      <th>degree_p</th>\n",
       "      <th>degree_t</th>\n",
       "      <th>etest_p</th>\n",
       "      <th>mba_p</th>\n",
       "      <th>specialisation</th>\n",
       "      <th>workex</th>\n",
       "      <th>status</th>\n",
       "    </tr>\n",
       "  </thead>\n",
       "  <tbody>\n",
       "    <tr>\n",
       "      <th>0</th>\n",
       "      <td>M</td>\n",
       "      <td>73.976975</td>\n",
       "      <td>Central</td>\n",
       "      <td>77.392691</td>\n",
       "      <td>Others</td>\n",
       "      <td>Science</td>\n",
       "      <td>73.623151</td>\n",
       "      <td>Sci&amp;Tech</td>\n",
       "      <td>84.498310</td>\n",
       "      <td>67.207006</td>\n",
       "      <td>Mkt&amp;HR</td>\n",
       "      <td>Yes</td>\n",
       "      <td>Placed</td>\n",
       "    </tr>\n",
       "    <tr>\n",
       "      <th>1</th>\n",
       "      <td>M</td>\n",
       "      <td>62.000000</td>\n",
       "      <td>Others</td>\n",
       "      <td>62.000000</td>\n",
       "      <td>Others</td>\n",
       "      <td>Commerce</td>\n",
       "      <td>60.000000</td>\n",
       "      <td>Comm&amp;Mgmt</td>\n",
       "      <td>63.000000</td>\n",
       "      <td>52.380000</td>\n",
       "      <td>Mkt&amp;HR</td>\n",
       "      <td>Yes</td>\n",
       "      <td>Placed</td>\n",
       "    </tr>\n",
       "    <tr>\n",
       "      <th>2</th>\n",
       "      <td>M</td>\n",
       "      <td>80.965242</td>\n",
       "      <td>Others</td>\n",
       "      <td>67.104275</td>\n",
       "      <td>Others</td>\n",
       "      <td>Science</td>\n",
       "      <td>72.482621</td>\n",
       "      <td>Sci&amp;Tech</td>\n",
       "      <td>91.343588</td>\n",
       "      <td>71.392313</td>\n",
       "      <td>Mkt&amp;Fin</td>\n",
       "      <td>No</td>\n",
       "      <td>Placed</td>\n",
       "    </tr>\n",
       "  </tbody>\n",
       "</table>\n",
       "</div>"
      ],
      "text/plain": [
       "  gender      ssc_p    ssc_b      hsc_p   hsc_b     hsc_s   degree_p  \\\n",
       "0      M  73.976975  Central  77.392691  Others   Science  73.623151   \n",
       "1      M  62.000000   Others  62.000000  Others  Commerce  60.000000   \n",
       "2      M  80.965242   Others  67.104275  Others   Science  72.482621   \n",
       "\n",
       "    degree_t    etest_p      mba_p specialisation workex  status  \n",
       "0   Sci&Tech  84.498310  67.207006         Mkt&HR    Yes  Placed  \n",
       "1  Comm&Mgmt  63.000000  52.380000         Mkt&HR    Yes  Placed  \n",
       "2   Sci&Tech  91.343588  71.392313        Mkt&Fin     No  Placed  "
      ]
     },
     "execution_count": 153,
     "metadata": {},
     "output_type": "execute_result"
    }
   ],
   "source": [
    "df.head(3)"
   ]
  },
  {
   "cell_type": "code",
   "execution_count": 154,
   "metadata": {},
   "outputs": [
    {
     "data": {
      "text/html": [
       "<div>\n",
       "<style scoped>\n",
       "    .dataframe tbody tr th:only-of-type {\n",
       "        vertical-align: middle;\n",
       "    }\n",
       "\n",
       "    .dataframe tbody tr th {\n",
       "        vertical-align: top;\n",
       "    }\n",
       "\n",
       "    .dataframe thead th {\n",
       "        text-align: right;\n",
       "    }\n",
       "</style>\n",
       "<table border=\"1\" class=\"dataframe\">\n",
       "  <thead>\n",
       "    <tr style=\"text-align: right;\">\n",
       "      <th></th>\n",
       "      <th>gender</th>\n",
       "      <th>ssc_p</th>\n",
       "      <th>ssc_b</th>\n",
       "      <th>hsc_p</th>\n",
       "      <th>hsc_b</th>\n",
       "      <th>hsc_s</th>\n",
       "      <th>degree_p</th>\n",
       "      <th>degree_t</th>\n",
       "      <th>etest_p</th>\n",
       "      <th>mba_p</th>\n",
       "      <th>specialisation</th>\n",
       "      <th>workex</th>\n",
       "      <th>status</th>\n",
       "    </tr>\n",
       "  </thead>\n",
       "  <tbody>\n",
       "    <tr>\n",
       "      <th>0</th>\n",
       "      <td>M</td>\n",
       "      <td>73.976975</td>\n",
       "      <td>Central</td>\n",
       "      <td>77.392691</td>\n",
       "      <td>Others</td>\n",
       "      <td>Science</td>\n",
       "      <td>73.623151</td>\n",
       "      <td>Sci&amp;Tech</td>\n",
       "      <td>84.498310</td>\n",
       "      <td>67.207006</td>\n",
       "      <td>Mkt&amp;HR</td>\n",
       "      <td>Yes</td>\n",
       "      <td>Placed</td>\n",
       "    </tr>\n",
       "    <tr>\n",
       "      <th>1</th>\n",
       "      <td>M</td>\n",
       "      <td>62.000000</td>\n",
       "      <td>Others</td>\n",
       "      <td>62.000000</td>\n",
       "      <td>Others</td>\n",
       "      <td>Commerce</td>\n",
       "      <td>60.000000</td>\n",
       "      <td>Comm&amp;Mgmt</td>\n",
       "      <td>63.000000</td>\n",
       "      <td>52.380000</td>\n",
       "      <td>Mkt&amp;HR</td>\n",
       "      <td>Yes</td>\n",
       "      <td>Placed</td>\n",
       "    </tr>\n",
       "    <tr>\n",
       "      <th>2</th>\n",
       "      <td>M</td>\n",
       "      <td>80.965242</td>\n",
       "      <td>Others</td>\n",
       "      <td>67.104275</td>\n",
       "      <td>Others</td>\n",
       "      <td>Science</td>\n",
       "      <td>72.482621</td>\n",
       "      <td>Sci&amp;Tech</td>\n",
       "      <td>91.343588</td>\n",
       "      <td>71.392313</td>\n",
       "      <td>Mkt&amp;Fin</td>\n",
       "      <td>No</td>\n",
       "      <td>Placed</td>\n",
       "    </tr>\n",
       "    <tr>\n",
       "      <th>3</th>\n",
       "      <td>M</td>\n",
       "      <td>52.000000</td>\n",
       "      <td>Others</td>\n",
       "      <td>65.000000</td>\n",
       "      <td>Others</td>\n",
       "      <td>Arts</td>\n",
       "      <td>57.000000</td>\n",
       "      <td>Others</td>\n",
       "      <td>75.000000</td>\n",
       "      <td>59.810000</td>\n",
       "      <td>Mkt&amp;Fin</td>\n",
       "      <td>Yes</td>\n",
       "      <td>Not Placed</td>\n",
       "    </tr>\n",
       "    <tr>\n",
       "      <th>4</th>\n",
       "      <td>F</td>\n",
       "      <td>69.000000</td>\n",
       "      <td>Central</td>\n",
       "      <td>62.000000</td>\n",
       "      <td>Central</td>\n",
       "      <td>Science</td>\n",
       "      <td>66.000000</td>\n",
       "      <td>Sci&amp;Tech</td>\n",
       "      <td>75.000000</td>\n",
       "      <td>67.990000</td>\n",
       "      <td>Mkt&amp;HR</td>\n",
       "      <td>No</td>\n",
       "      <td>Not Placed</td>\n",
       "    </tr>\n",
       "    <tr>\n",
       "      <th>5</th>\n",
       "      <td>M</td>\n",
       "      <td>78.762370</td>\n",
       "      <td>Others</td>\n",
       "      <td>78.663054</td>\n",
       "      <td>Others</td>\n",
       "      <td>Commerce</td>\n",
       "      <td>70.281069</td>\n",
       "      <td>Comm&amp;Mgmt</td>\n",
       "      <td>67.441772</td>\n",
       "      <td>65.318049</td>\n",
       "      <td>Mkt&amp;Fin</td>\n",
       "      <td>Yes</td>\n",
       "      <td>Placed</td>\n",
       "    </tr>\n",
       "    <tr>\n",
       "      <th>6</th>\n",
       "      <td>M</td>\n",
       "      <td>51.794497</td>\n",
       "      <td>Others</td>\n",
       "      <td>40.985605</td>\n",
       "      <td>Others</td>\n",
       "      <td>Science</td>\n",
       "      <td>62.126648</td>\n",
       "      <td>Others</td>\n",
       "      <td>65.862469</td>\n",
       "      <td>52.249751</td>\n",
       "      <td>Mkt&amp;HR</td>\n",
       "      <td>No</td>\n",
       "      <td>Not Placed</td>\n",
       "    </tr>\n",
       "    <tr>\n",
       "      <th>7</th>\n",
       "      <td>M</td>\n",
       "      <td>59.805924</td>\n",
       "      <td>Central</td>\n",
       "      <td>61.451481</td>\n",
       "      <td>Others</td>\n",
       "      <td>Commerce</td>\n",
       "      <td>60.000000</td>\n",
       "      <td>Comm&amp;Mgmt</td>\n",
       "      <td>62.451481</td>\n",
       "      <td>57.025957</td>\n",
       "      <td>Mkt&amp;HR</td>\n",
       "      <td>Yes</td>\n",
       "      <td>Placed</td>\n",
       "    </tr>\n",
       "  </tbody>\n",
       "</table>\n",
       "</div>"
      ],
      "text/plain": [
       "  gender      ssc_p    ssc_b      hsc_p    hsc_b     hsc_s   degree_p  \\\n",
       "0      M  73.976975  Central  77.392691   Others   Science  73.623151   \n",
       "1      M  62.000000   Others  62.000000   Others  Commerce  60.000000   \n",
       "2      M  80.965242   Others  67.104275   Others   Science  72.482621   \n",
       "3      M  52.000000   Others  65.000000   Others      Arts  57.000000   \n",
       "4      F  69.000000  Central  62.000000  Central   Science  66.000000   \n",
       "5      M  78.762370   Others  78.663054   Others  Commerce  70.281069   \n",
       "6      M  51.794497   Others  40.985605   Others   Science  62.126648   \n",
       "7      M  59.805924  Central  61.451481   Others  Commerce  60.000000   \n",
       "\n",
       "    degree_t    etest_p      mba_p specialisation workex      status  \n",
       "0   Sci&Tech  84.498310  67.207006         Mkt&HR    Yes      Placed  \n",
       "1  Comm&Mgmt  63.000000  52.380000         Mkt&HR    Yes      Placed  \n",
       "2   Sci&Tech  91.343588  71.392313        Mkt&Fin     No      Placed  \n",
       "3     Others  75.000000  59.810000        Mkt&Fin    Yes  Not Placed  \n",
       "4   Sci&Tech  75.000000  67.990000         Mkt&HR     No  Not Placed  \n",
       "5  Comm&Mgmt  67.441772  65.318049        Mkt&Fin    Yes      Placed  \n",
       "6     Others  65.862469  52.249751         Mkt&HR     No  Not Placed  \n",
       "7  Comm&Mgmt  62.451481  57.025957         Mkt&HR    Yes      Placed  "
      ]
     },
     "execution_count": 154,
     "metadata": {},
     "output_type": "execute_result"
    }
   ],
   "source": [
    "df.head(8)"
   ]
  },
  {
   "cell_type": "code",
   "execution_count": 155,
   "metadata": {},
   "outputs": [
    {
     "data": {
      "text/html": [
       "<div>\n",
       "<style scoped>\n",
       "    .dataframe tbody tr th:only-of-type {\n",
       "        vertical-align: middle;\n",
       "    }\n",
       "\n",
       "    .dataframe tbody tr th {\n",
       "        vertical-align: top;\n",
       "    }\n",
       "\n",
       "    .dataframe thead th {\n",
       "        text-align: right;\n",
       "    }\n",
       "</style>\n",
       "<table border=\"1\" class=\"dataframe\">\n",
       "  <thead>\n",
       "    <tr style=\"text-align: right;\">\n",
       "      <th></th>\n",
       "      <th>gender</th>\n",
       "      <th>ssc_p</th>\n",
       "      <th>ssc_b</th>\n",
       "      <th>hsc_p</th>\n",
       "      <th>hsc_b</th>\n",
       "      <th>hsc_s</th>\n",
       "      <th>degree_p</th>\n",
       "      <th>degree_t</th>\n",
       "      <th>etest_p</th>\n",
       "      <th>mba_p</th>\n",
       "      <th>specialisation</th>\n",
       "      <th>workex</th>\n",
       "      <th>status</th>\n",
       "    </tr>\n",
       "  </thead>\n",
       "  <tbody>\n",
       "    <tr>\n",
       "      <th>665</th>\n",
       "      <td>F</td>\n",
       "      <td>66.552313</td>\n",
       "      <td>Central</td>\n",
       "      <td>69.552313</td>\n",
       "      <td>Central</td>\n",
       "      <td>Science</td>\n",
       "      <td>64.424403</td>\n",
       "      <td>Others</td>\n",
       "      <td>87.488358</td>\n",
       "      <td>70.979566</td>\n",
       "      <td>Mkt&amp;HR</td>\n",
       "      <td>Yes</td>\n",
       "      <td>Placed</td>\n",
       "    </tr>\n",
       "    <tr>\n",
       "      <th>666</th>\n",
       "      <td>F</td>\n",
       "      <td>65.669891</td>\n",
       "      <td>Central</td>\n",
       "      <td>69.228406</td>\n",
       "      <td>Central</td>\n",
       "      <td>Arts</td>\n",
       "      <td>62.844684</td>\n",
       "      <td>Others</td>\n",
       "      <td>66.911401</td>\n",
       "      <td>60.439367</td>\n",
       "      <td>Mkt&amp;Fin</td>\n",
       "      <td>Yes</td>\n",
       "      <td>Placed</td>\n",
       "    </tr>\n",
       "    <tr>\n",
       "      <th>667</th>\n",
       "      <td>F</td>\n",
       "      <td>72.000000</td>\n",
       "      <td>Central</td>\n",
       "      <td>56.000000</td>\n",
       "      <td>Others</td>\n",
       "      <td>Science</td>\n",
       "      <td>69.000000</td>\n",
       "      <td>Comm&amp;Mgmt</td>\n",
       "      <td>55.600000</td>\n",
       "      <td>65.630000</td>\n",
       "      <td>Mkt&amp;HR</td>\n",
       "      <td>No</td>\n",
       "      <td>Placed</td>\n",
       "    </tr>\n",
       "    <tr>\n",
       "      <th>668</th>\n",
       "      <td>F</td>\n",
       "      <td>42.864579</td>\n",
       "      <td>Others</td>\n",
       "      <td>47.265805</td>\n",
       "      <td>Others</td>\n",
       "      <td>Commerce</td>\n",
       "      <td>54.388593</td>\n",
       "      <td>Comm&amp;Mgmt</td>\n",
       "      <td>68.089552</td>\n",
       "      <td>63.629286</td>\n",
       "      <td>Mkt&amp;HR</td>\n",
       "      <td>No</td>\n",
       "      <td>Not Placed</td>\n",
       "    </tr>\n",
       "    <tr>\n",
       "      <th>669</th>\n",
       "      <td>M</td>\n",
       "      <td>75.835807</td>\n",
       "      <td>Central</td>\n",
       "      <td>95.527337</td>\n",
       "      <td>Others</td>\n",
       "      <td>Science</td>\n",
       "      <td>76.751174</td>\n",
       "      <td>Sci&amp;Tech</td>\n",
       "      <td>93.861727</td>\n",
       "      <td>70.887522</td>\n",
       "      <td>Mkt&amp;Fin</td>\n",
       "      <td>Yes</td>\n",
       "      <td>Placed</td>\n",
       "    </tr>\n",
       "  </tbody>\n",
       "</table>\n",
       "</div>"
      ],
      "text/plain": [
       "    gender      ssc_p    ssc_b      hsc_p    hsc_b     hsc_s   degree_p  \\\n",
       "665      F  66.552313  Central  69.552313  Central   Science  64.424403   \n",
       "666      F  65.669891  Central  69.228406  Central      Arts  62.844684   \n",
       "667      F  72.000000  Central  56.000000   Others   Science  69.000000   \n",
       "668      F  42.864579   Others  47.265805   Others  Commerce  54.388593   \n",
       "669      M  75.835807  Central  95.527337   Others   Science  76.751174   \n",
       "\n",
       "      degree_t    etest_p      mba_p specialisation workex      status  \n",
       "665     Others  87.488358  70.979566         Mkt&HR    Yes      Placed  \n",
       "666     Others  66.911401  60.439367        Mkt&Fin    Yes      Placed  \n",
       "667  Comm&Mgmt  55.600000  65.630000         Mkt&HR     No      Placed  \n",
       "668  Comm&Mgmt  68.089552  63.629286         Mkt&HR     No  Not Placed  \n",
       "669   Sci&Tech  93.861727  70.887522        Mkt&Fin    Yes      Placed  "
      ]
     },
     "execution_count": 155,
     "metadata": {},
     "output_type": "execute_result"
    }
   ],
   "source": [
    "df.tail()"
   ]
  },
  {
   "cell_type": "code",
   "execution_count": 156,
   "metadata": {},
   "outputs": [
    {
     "data": {
      "text/html": [
       "<div>\n",
       "<style scoped>\n",
       "    .dataframe tbody tr th:only-of-type {\n",
       "        vertical-align: middle;\n",
       "    }\n",
       "\n",
       "    .dataframe tbody tr th {\n",
       "        vertical-align: top;\n",
       "    }\n",
       "\n",
       "    .dataframe thead th {\n",
       "        text-align: right;\n",
       "    }\n",
       "</style>\n",
       "<table border=\"1\" class=\"dataframe\">\n",
       "  <thead>\n",
       "    <tr style=\"text-align: right;\">\n",
       "      <th></th>\n",
       "      <th>gender</th>\n",
       "      <th>ssc_p</th>\n",
       "      <th>ssc_b</th>\n",
       "      <th>hsc_p</th>\n",
       "      <th>hsc_b</th>\n",
       "      <th>hsc_s</th>\n",
       "      <th>degree_p</th>\n",
       "      <th>degree_t</th>\n",
       "      <th>etest_p</th>\n",
       "      <th>mba_p</th>\n",
       "      <th>specialisation</th>\n",
       "      <th>workex</th>\n",
       "      <th>status</th>\n",
       "    </tr>\n",
       "  </thead>\n",
       "  <tbody>\n",
       "    <tr>\n",
       "      <th>664</th>\n",
       "      <td>M</td>\n",
       "      <td>80.597596</td>\n",
       "      <td>Others</td>\n",
       "      <td>68.804809</td>\n",
       "      <td>Others</td>\n",
       "      <td>Science</td>\n",
       "      <td>67.219236</td>\n",
       "      <td>Sci&amp;Tech</td>\n",
       "      <td>90.585573</td>\n",
       "      <td>65.972390</td>\n",
       "      <td>Mkt&amp;Fin</td>\n",
       "      <td>Yes</td>\n",
       "      <td>Placed</td>\n",
       "    </tr>\n",
       "    <tr>\n",
       "      <th>665</th>\n",
       "      <td>F</td>\n",
       "      <td>66.552313</td>\n",
       "      <td>Central</td>\n",
       "      <td>69.552313</td>\n",
       "      <td>Central</td>\n",
       "      <td>Science</td>\n",
       "      <td>64.424403</td>\n",
       "      <td>Others</td>\n",
       "      <td>87.488358</td>\n",
       "      <td>70.979566</td>\n",
       "      <td>Mkt&amp;HR</td>\n",
       "      <td>Yes</td>\n",
       "      <td>Placed</td>\n",
       "    </tr>\n",
       "    <tr>\n",
       "      <th>666</th>\n",
       "      <td>F</td>\n",
       "      <td>65.669891</td>\n",
       "      <td>Central</td>\n",
       "      <td>69.228406</td>\n",
       "      <td>Central</td>\n",
       "      <td>Arts</td>\n",
       "      <td>62.844684</td>\n",
       "      <td>Others</td>\n",
       "      <td>66.911401</td>\n",
       "      <td>60.439367</td>\n",
       "      <td>Mkt&amp;Fin</td>\n",
       "      <td>Yes</td>\n",
       "      <td>Placed</td>\n",
       "    </tr>\n",
       "    <tr>\n",
       "      <th>667</th>\n",
       "      <td>F</td>\n",
       "      <td>72.000000</td>\n",
       "      <td>Central</td>\n",
       "      <td>56.000000</td>\n",
       "      <td>Others</td>\n",
       "      <td>Science</td>\n",
       "      <td>69.000000</td>\n",
       "      <td>Comm&amp;Mgmt</td>\n",
       "      <td>55.600000</td>\n",
       "      <td>65.630000</td>\n",
       "      <td>Mkt&amp;HR</td>\n",
       "      <td>No</td>\n",
       "      <td>Placed</td>\n",
       "    </tr>\n",
       "    <tr>\n",
       "      <th>668</th>\n",
       "      <td>F</td>\n",
       "      <td>42.864579</td>\n",
       "      <td>Others</td>\n",
       "      <td>47.265805</td>\n",
       "      <td>Others</td>\n",
       "      <td>Commerce</td>\n",
       "      <td>54.388593</td>\n",
       "      <td>Comm&amp;Mgmt</td>\n",
       "      <td>68.089552</td>\n",
       "      <td>63.629286</td>\n",
       "      <td>Mkt&amp;HR</td>\n",
       "      <td>No</td>\n",
       "      <td>Not Placed</td>\n",
       "    </tr>\n",
       "    <tr>\n",
       "      <th>669</th>\n",
       "      <td>M</td>\n",
       "      <td>75.835807</td>\n",
       "      <td>Central</td>\n",
       "      <td>95.527337</td>\n",
       "      <td>Others</td>\n",
       "      <td>Science</td>\n",
       "      <td>76.751174</td>\n",
       "      <td>Sci&amp;Tech</td>\n",
       "      <td>93.861727</td>\n",
       "      <td>70.887522</td>\n",
       "      <td>Mkt&amp;Fin</td>\n",
       "      <td>Yes</td>\n",
       "      <td>Placed</td>\n",
       "    </tr>\n",
       "  </tbody>\n",
       "</table>\n",
       "</div>"
      ],
      "text/plain": [
       "    gender      ssc_p    ssc_b      hsc_p    hsc_b     hsc_s   degree_p  \\\n",
       "664      M  80.597596   Others  68.804809   Others   Science  67.219236   \n",
       "665      F  66.552313  Central  69.552313  Central   Science  64.424403   \n",
       "666      F  65.669891  Central  69.228406  Central      Arts  62.844684   \n",
       "667      F  72.000000  Central  56.000000   Others   Science  69.000000   \n",
       "668      F  42.864579   Others  47.265805   Others  Commerce  54.388593   \n",
       "669      M  75.835807  Central  95.527337   Others   Science  76.751174   \n",
       "\n",
       "      degree_t    etest_p      mba_p specialisation workex      status  \n",
       "664   Sci&Tech  90.585573  65.972390        Mkt&Fin    Yes      Placed  \n",
       "665     Others  87.488358  70.979566         Mkt&HR    Yes      Placed  \n",
       "666     Others  66.911401  60.439367        Mkt&Fin    Yes      Placed  \n",
       "667  Comm&Mgmt  55.600000  65.630000         Mkt&HR     No      Placed  \n",
       "668  Comm&Mgmt  68.089552  63.629286         Mkt&HR     No  Not Placed  \n",
       "669   Sci&Tech  93.861727  70.887522        Mkt&Fin    Yes      Placed  "
      ]
     },
     "execution_count": 156,
     "metadata": {},
     "output_type": "execute_result"
    }
   ],
   "source": [
    "df.tail(6)"
   ]
  },
  {
   "cell_type": "code",
   "execution_count": 157,
   "metadata": {},
   "outputs": [
    {
     "data": {
      "text/html": [
       "<div>\n",
       "<style scoped>\n",
       "    .dataframe tbody tr th:only-of-type {\n",
       "        vertical-align: middle;\n",
       "    }\n",
       "\n",
       "    .dataframe tbody tr th {\n",
       "        vertical-align: top;\n",
       "    }\n",
       "\n",
       "    .dataframe thead th {\n",
       "        text-align: right;\n",
       "    }\n",
       "</style>\n",
       "<table border=\"1\" class=\"dataframe\">\n",
       "  <thead>\n",
       "    <tr style=\"text-align: right;\">\n",
       "      <th></th>\n",
       "      <th>ssc_p</th>\n",
       "      <th>hsc_p</th>\n",
       "      <th>degree_p</th>\n",
       "      <th>etest_p</th>\n",
       "      <th>mba_p</th>\n",
       "    </tr>\n",
       "  </thead>\n",
       "  <tbody>\n",
       "    <tr>\n",
       "      <th>count</th>\n",
       "      <td>670.000000</td>\n",
       "      <td>670.000000</td>\n",
       "      <td>670.000000</td>\n",
       "      <td>670.000000</td>\n",
       "      <td>670.000000</td>\n",
       "    </tr>\n",
       "    <tr>\n",
       "      <th>mean</th>\n",
       "      <td>68.960017</td>\n",
       "      <td>65.203006</td>\n",
       "      <td>65.229034</td>\n",
       "      <td>73.740025</td>\n",
       "      <td>62.993108</td>\n",
       "    </tr>\n",
       "    <tr>\n",
       "      <th>std</th>\n",
       "      <td>10.182563</td>\n",
       "      <td>11.222577</td>\n",
       "      <td>7.157608</td>\n",
       "      <td>12.101840</td>\n",
       "      <td>5.126855</td>\n",
       "    </tr>\n",
       "    <tr>\n",
       "      <th>min</th>\n",
       "      <td>42.864579</td>\n",
       "      <td>37.106246</td>\n",
       "      <td>50.000000</td>\n",
       "      <td>50.000000</td>\n",
       "      <td>51.290000</td>\n",
       "    </tr>\n",
       "    <tr>\n",
       "      <th>25%</th>\n",
       "      <td>61.619318</td>\n",
       "      <td>60.431420</td>\n",
       "      <td>60.000000</td>\n",
       "      <td>64.199327</td>\n",
       "      <td>59.431996</td>\n",
       "    </tr>\n",
       "    <tr>\n",
       "      <th>50%</th>\n",
       "      <td>68.332563</td>\n",
       "      <td>64.753270</td>\n",
       "      <td>64.906329</td>\n",
       "      <td>72.677821</td>\n",
       "      <td>62.481656</td>\n",
       "    </tr>\n",
       "    <tr>\n",
       "      <th>75%</th>\n",
       "      <td>77.130019</td>\n",
       "      <td>71.390402</td>\n",
       "      <td>70.271632</td>\n",
       "      <td>83.955186</td>\n",
       "      <td>66.864202</td>\n",
       "    </tr>\n",
       "    <tr>\n",
       "      <th>max</th>\n",
       "      <td>89.400000</td>\n",
       "      <td>97.700000</td>\n",
       "      <td>91.000000</td>\n",
       "      <td>97.938047</td>\n",
       "      <td>77.890000</td>\n",
       "    </tr>\n",
       "  </tbody>\n",
       "</table>\n",
       "</div>"
      ],
      "text/plain": [
       "            ssc_p       hsc_p    degree_p     etest_p       mba_p\n",
       "count  670.000000  670.000000  670.000000  670.000000  670.000000\n",
       "mean    68.960017   65.203006   65.229034   73.740025   62.993108\n",
       "std     10.182563   11.222577    7.157608   12.101840    5.126855\n",
       "min     42.864579   37.106246   50.000000   50.000000   51.290000\n",
       "25%     61.619318   60.431420   60.000000   64.199327   59.431996\n",
       "50%     68.332563   64.753270   64.906329   72.677821   62.481656\n",
       "75%     77.130019   71.390402   70.271632   83.955186   66.864202\n",
       "max     89.400000   97.700000   91.000000   97.938047   77.890000"
      ]
     },
     "execution_count": 157,
     "metadata": {},
     "output_type": "execute_result"
    }
   ],
   "source": [
    "df.describe()"
   ]
  },
  {
   "cell_type": "code",
   "execution_count": 158,
   "metadata": {},
   "outputs": [
    {
     "data": {
      "text/html": [
       "<div>\n",
       "<style scoped>\n",
       "    .dataframe tbody tr th:only-of-type {\n",
       "        vertical-align: middle;\n",
       "    }\n",
       "\n",
       "    .dataframe tbody tr th {\n",
       "        vertical-align: top;\n",
       "    }\n",
       "\n",
       "    .dataframe thead th {\n",
       "        text-align: right;\n",
       "    }\n",
       "</style>\n",
       "<table border=\"1\" class=\"dataframe\">\n",
       "  <thead>\n",
       "    <tr style=\"text-align: right;\">\n",
       "      <th></th>\n",
       "      <th>gender</th>\n",
       "      <th>ssc_p</th>\n",
       "      <th>ssc_b</th>\n",
       "      <th>hsc_p</th>\n",
       "      <th>hsc_b</th>\n",
       "      <th>hsc_s</th>\n",
       "      <th>degree_p</th>\n",
       "      <th>degree_t</th>\n",
       "      <th>etest_p</th>\n",
       "      <th>mba_p</th>\n",
       "      <th>specialisation</th>\n",
       "      <th>workex</th>\n",
       "      <th>status</th>\n",
       "    </tr>\n",
       "  </thead>\n",
       "  <tbody>\n",
       "    <tr>\n",
       "      <th>0</th>\n",
       "      <td>M</td>\n",
       "      <td>73.976975</td>\n",
       "      <td>Central</td>\n",
       "      <td>77.392691</td>\n",
       "      <td>Others</td>\n",
       "      <td>Science</td>\n",
       "      <td>73.623151</td>\n",
       "      <td>Sci&amp;Tech</td>\n",
       "      <td>84.498310</td>\n",
       "      <td>67.207006</td>\n",
       "      <td>Mkt&amp;HR</td>\n",
       "      <td>Yes</td>\n",
       "      <td>Placed</td>\n",
       "    </tr>\n",
       "    <tr>\n",
       "      <th>1</th>\n",
       "      <td>M</td>\n",
       "      <td>62.000000</td>\n",
       "      <td>Others</td>\n",
       "      <td>62.000000</td>\n",
       "      <td>Others</td>\n",
       "      <td>Commerce</td>\n",
       "      <td>60.000000</td>\n",
       "      <td>Comm&amp;Mgmt</td>\n",
       "      <td>63.000000</td>\n",
       "      <td>52.380000</td>\n",
       "      <td>Mkt&amp;HR</td>\n",
       "      <td>Yes</td>\n",
       "      <td>Placed</td>\n",
       "    </tr>\n",
       "    <tr>\n",
       "      <th>2</th>\n",
       "      <td>M</td>\n",
       "      <td>80.965242</td>\n",
       "      <td>Others</td>\n",
       "      <td>67.104275</td>\n",
       "      <td>Others</td>\n",
       "      <td>Science</td>\n",
       "      <td>72.482621</td>\n",
       "      <td>Sci&amp;Tech</td>\n",
       "      <td>91.343588</td>\n",
       "      <td>71.392313</td>\n",
       "      <td>Mkt&amp;Fin</td>\n",
       "      <td>No</td>\n",
       "      <td>Placed</td>\n",
       "    </tr>\n",
       "    <tr>\n",
       "      <th>3</th>\n",
       "      <td>M</td>\n",
       "      <td>52.000000</td>\n",
       "      <td>Others</td>\n",
       "      <td>65.000000</td>\n",
       "      <td>Others</td>\n",
       "      <td>Arts</td>\n",
       "      <td>57.000000</td>\n",
       "      <td>Others</td>\n",
       "      <td>75.000000</td>\n",
       "      <td>59.810000</td>\n",
       "      <td>Mkt&amp;Fin</td>\n",
       "      <td>Yes</td>\n",
       "      <td>Not Placed</td>\n",
       "    </tr>\n",
       "    <tr>\n",
       "      <th>4</th>\n",
       "      <td>F</td>\n",
       "      <td>69.000000</td>\n",
       "      <td>Central</td>\n",
       "      <td>62.000000</td>\n",
       "      <td>Central</td>\n",
       "      <td>Science</td>\n",
       "      <td>66.000000</td>\n",
       "      <td>Sci&amp;Tech</td>\n",
       "      <td>75.000000</td>\n",
       "      <td>67.990000</td>\n",
       "      <td>Mkt&amp;HR</td>\n",
       "      <td>No</td>\n",
       "      <td>Not Placed</td>\n",
       "    </tr>\n",
       "    <tr>\n",
       "      <th>...</th>\n",
       "      <td>...</td>\n",
       "      <td>...</td>\n",
       "      <td>...</td>\n",
       "      <td>...</td>\n",
       "      <td>...</td>\n",
       "      <td>...</td>\n",
       "      <td>...</td>\n",
       "      <td>...</td>\n",
       "      <td>...</td>\n",
       "      <td>...</td>\n",
       "      <td>...</td>\n",
       "      <td>...</td>\n",
       "      <td>...</td>\n",
       "    </tr>\n",
       "    <tr>\n",
       "      <th>665</th>\n",
       "      <td>F</td>\n",
       "      <td>66.552313</td>\n",
       "      <td>Central</td>\n",
       "      <td>69.552313</td>\n",
       "      <td>Central</td>\n",
       "      <td>Science</td>\n",
       "      <td>64.424403</td>\n",
       "      <td>Others</td>\n",
       "      <td>87.488358</td>\n",
       "      <td>70.979566</td>\n",
       "      <td>Mkt&amp;HR</td>\n",
       "      <td>Yes</td>\n",
       "      <td>Placed</td>\n",
       "    </tr>\n",
       "    <tr>\n",
       "      <th>666</th>\n",
       "      <td>F</td>\n",
       "      <td>65.669891</td>\n",
       "      <td>Central</td>\n",
       "      <td>69.228406</td>\n",
       "      <td>Central</td>\n",
       "      <td>Arts</td>\n",
       "      <td>62.844684</td>\n",
       "      <td>Others</td>\n",
       "      <td>66.911401</td>\n",
       "      <td>60.439367</td>\n",
       "      <td>Mkt&amp;Fin</td>\n",
       "      <td>Yes</td>\n",
       "      <td>Placed</td>\n",
       "    </tr>\n",
       "    <tr>\n",
       "      <th>667</th>\n",
       "      <td>F</td>\n",
       "      <td>72.000000</td>\n",
       "      <td>Central</td>\n",
       "      <td>56.000000</td>\n",
       "      <td>Others</td>\n",
       "      <td>Science</td>\n",
       "      <td>69.000000</td>\n",
       "      <td>Comm&amp;Mgmt</td>\n",
       "      <td>55.600000</td>\n",
       "      <td>65.630000</td>\n",
       "      <td>Mkt&amp;HR</td>\n",
       "      <td>No</td>\n",
       "      <td>Placed</td>\n",
       "    </tr>\n",
       "    <tr>\n",
       "      <th>668</th>\n",
       "      <td>F</td>\n",
       "      <td>42.864579</td>\n",
       "      <td>Others</td>\n",
       "      <td>47.265805</td>\n",
       "      <td>Others</td>\n",
       "      <td>Commerce</td>\n",
       "      <td>54.388593</td>\n",
       "      <td>Comm&amp;Mgmt</td>\n",
       "      <td>68.089552</td>\n",
       "      <td>63.629286</td>\n",
       "      <td>Mkt&amp;HR</td>\n",
       "      <td>No</td>\n",
       "      <td>Not Placed</td>\n",
       "    </tr>\n",
       "    <tr>\n",
       "      <th>669</th>\n",
       "      <td>M</td>\n",
       "      <td>75.835807</td>\n",
       "      <td>Central</td>\n",
       "      <td>95.527337</td>\n",
       "      <td>Others</td>\n",
       "      <td>Science</td>\n",
       "      <td>76.751174</td>\n",
       "      <td>Sci&amp;Tech</td>\n",
       "      <td>93.861727</td>\n",
       "      <td>70.887522</td>\n",
       "      <td>Mkt&amp;Fin</td>\n",
       "      <td>Yes</td>\n",
       "      <td>Placed</td>\n",
       "    </tr>\n",
       "  </tbody>\n",
       "</table>\n",
       "<p>670 rows × 13 columns</p>\n",
       "</div>"
      ],
      "text/plain": [
       "    gender      ssc_p    ssc_b      hsc_p    hsc_b     hsc_s   degree_p  \\\n",
       "0        M  73.976975  Central  77.392691   Others   Science  73.623151   \n",
       "1        M  62.000000   Others  62.000000   Others  Commerce  60.000000   \n",
       "2        M  80.965242   Others  67.104275   Others   Science  72.482621   \n",
       "3        M  52.000000   Others  65.000000   Others      Arts  57.000000   \n",
       "4        F  69.000000  Central  62.000000  Central   Science  66.000000   \n",
       "..     ...        ...      ...        ...      ...       ...        ...   \n",
       "665      F  66.552313  Central  69.552313  Central   Science  64.424403   \n",
       "666      F  65.669891  Central  69.228406  Central      Arts  62.844684   \n",
       "667      F  72.000000  Central  56.000000   Others   Science  69.000000   \n",
       "668      F  42.864579   Others  47.265805   Others  Commerce  54.388593   \n",
       "669      M  75.835807  Central  95.527337   Others   Science  76.751174   \n",
       "\n",
       "      degree_t    etest_p      mba_p specialisation workex      status  \n",
       "0     Sci&Tech  84.498310  67.207006         Mkt&HR    Yes      Placed  \n",
       "1    Comm&Mgmt  63.000000  52.380000         Mkt&HR    Yes      Placed  \n",
       "2     Sci&Tech  91.343588  71.392313        Mkt&Fin     No      Placed  \n",
       "3       Others  75.000000  59.810000        Mkt&Fin    Yes  Not Placed  \n",
       "4     Sci&Tech  75.000000  67.990000         Mkt&HR     No  Not Placed  \n",
       "..         ...        ...        ...            ...    ...         ...  \n",
       "665     Others  87.488358  70.979566         Mkt&HR    Yes      Placed  \n",
       "666     Others  66.911401  60.439367        Mkt&Fin    Yes      Placed  \n",
       "667  Comm&Mgmt  55.600000  65.630000         Mkt&HR     No      Placed  \n",
       "668  Comm&Mgmt  68.089552  63.629286         Mkt&HR     No  Not Placed  \n",
       "669   Sci&Tech  93.861727  70.887522        Mkt&Fin    Yes      Placed  \n",
       "\n",
       "[670 rows x 13 columns]"
      ]
     },
     "execution_count": 158,
     "metadata": {},
     "output_type": "execute_result"
    }
   ],
   "source": [
    "df.rename({})"
   ]
  },
  {
   "cell_type": "code",
   "execution_count": 159,
   "metadata": {},
   "outputs": [
    {
     "data": {
      "application/vnd.plotly.v1+json": {
       "config": {
        "plotlyServerURL": "https://plot.ly"
       },
       "data": [
        {
         "domain": {
          "x": [
           0,
           1
          ],
          "y": [
           0,
           1
          ]
         },
         "hovertemplate": "gender=%{label}<extra></extra>",
         "labels": [
          "M",
          "M",
          "M",
          "M",
          "F",
          "M",
          "M",
          "M",
          "M",
          "M",
          "M",
          "F",
          "M",
          "M",
          "M",
          "M",
          "M",
          "F",
          "F",
          "M",
          "M",
          "M",
          "M",
          "M",
          "M",
          "M",
          "M",
          "F",
          "F",
          "M",
          "F",
          "M",
          "M",
          "M",
          "M",
          "M",
          "M",
          "M",
          "F",
          "M",
          "M",
          "M",
          "M",
          "M",
          "M",
          "M",
          "M",
          "M",
          "M",
          "M",
          "M",
          "M",
          "M",
          "F",
          "M",
          "M",
          "F",
          "M",
          "M",
          "M",
          "M",
          "M",
          "M",
          "M",
          "M",
          "M",
          "F",
          "M",
          "F",
          "M",
          "M",
          "M",
          "M",
          "F",
          "M",
          "M",
          "M",
          "F",
          "M",
          "M",
          "F",
          "M",
          "M",
          "F",
          "F",
          "F",
          "M",
          "F",
          "M",
          "F",
          "M",
          "F",
          "M",
          "M",
          "F",
          "M",
          "F",
          "M",
          "M",
          "M",
          "F",
          "F",
          "M",
          "F",
          "F",
          "M",
          "F",
          "M",
          "F",
          "M",
          "M",
          "M",
          "F",
          "F",
          "M",
          "M",
          "M",
          "M",
          "M",
          "M",
          "M",
          "M",
          "M",
          "M",
          "M",
          "M",
          "F",
          "M",
          "M",
          "M",
          "M",
          "F",
          "M",
          "F",
          "M",
          "M",
          "F",
          "F",
          "F",
          "F",
          "M",
          "F",
          "M",
          "F",
          "M",
          "M",
          "F",
          "M",
          "M",
          "F",
          "M",
          "F",
          "F",
          "M",
          "F",
          "M",
          "M",
          "F",
          "M",
          "M",
          "M",
          "M",
          "F",
          "M",
          "M",
          "M",
          "F",
          "M",
          "M",
          "M",
          "M",
          "F",
          "M",
          "F",
          "M",
          "F",
          "M",
          "M",
          "M",
          "M",
          "M",
          "M",
          "M",
          "M",
          "M",
          "M",
          "F",
          "M",
          "M",
          "M",
          "M",
          "F",
          "M",
          "F",
          "M",
          "M",
          "F",
          "M",
          "M",
          "M",
          "F",
          "F",
          "F",
          "F",
          "F",
          "M",
          "M",
          "M",
          "M",
          "M",
          "M",
          "F",
          "M",
          "M",
          "F",
          "M",
          "M",
          "F",
          "M",
          "M",
          "M",
          "F",
          "M",
          "M",
          "M",
          "M",
          "M",
          "M",
          "F",
          "M",
          "M",
          "M",
          "F",
          "M",
          "M",
          "F",
          "F",
          "M",
          "M",
          "M",
          "M",
          "M",
          "M",
          "F",
          "F",
          "M",
          "M",
          "M",
          "M",
          "M",
          "F",
          "F",
          "M",
          "F",
          "M",
          "F",
          "M",
          "F",
          "M",
          "F",
          "M",
          "M",
          "M",
          "M",
          "F",
          "M",
          "F",
          "M",
          "M",
          "M",
          "M",
          "M",
          "F",
          "F",
          "F",
          "F",
          "M",
          "F",
          "M",
          "M",
          "F",
          "M",
          "M",
          "M",
          "F",
          "M",
          "F",
          "M",
          "M",
          "M",
          "M",
          "M",
          "F",
          "M",
          "M",
          "M",
          "M",
          "F",
          "M",
          "F",
          "M",
          "F",
          "M",
          "F",
          "M",
          "M",
          "M",
          "M",
          "M",
          "F",
          "F",
          "M",
          "M",
          "F",
          "M",
          "F",
          "M",
          "M",
          "M",
          "F",
          "M",
          "M",
          "M",
          "M",
          "M",
          "M",
          "M",
          "M",
          "M",
          "M",
          "M",
          "F",
          "M",
          "M",
          "F",
          "F",
          "F",
          "M",
          "M",
          "F",
          "M",
          "M",
          "M",
          "M",
          "M",
          "F",
          "M",
          "F",
          "F",
          "M",
          "M",
          "M",
          "M",
          "M",
          "F",
          "M",
          "M",
          "M",
          "M",
          "M",
          "F",
          "M",
          "M",
          "M",
          "M",
          "M",
          "F",
          "M",
          "F",
          "M",
          "M",
          "M",
          "F",
          "F",
          "F",
          "F",
          "F",
          "M",
          "F",
          "F",
          "F",
          "M",
          "M",
          "M",
          "M",
          "M",
          "M",
          "M",
          "M",
          "M",
          "F",
          "M",
          "F",
          "F",
          "M",
          "M",
          "F",
          "F",
          "M",
          "F",
          "M",
          "M",
          "M",
          "M",
          "M",
          "F",
          "M",
          "M",
          "M",
          "M",
          "M",
          "F",
          "M",
          "M",
          "M",
          "M",
          "M",
          "M",
          "M",
          "F",
          "M",
          "M",
          "M",
          "F",
          "M",
          "M",
          "M",
          "M",
          "M",
          "M",
          "M",
          "M",
          "F",
          "F",
          "M",
          "M",
          "M",
          "M",
          "M",
          "M",
          "M",
          "M",
          "M",
          "M",
          "M",
          "M",
          "M",
          "M",
          "F",
          "F",
          "M",
          "M",
          "M",
          "M",
          "M",
          "F",
          "F",
          "F",
          "M",
          "F",
          "M",
          "M",
          "M",
          "M",
          "M",
          "M",
          "F",
          "M",
          "M",
          "F",
          "M",
          "F",
          "F",
          "F",
          "M",
          "F",
          "M",
          "M",
          "M",
          "M",
          "M",
          "F",
          "F",
          "F",
          "F",
          "M",
          "M",
          "F",
          "M",
          "M",
          "M",
          "F",
          "F",
          "M",
          "F",
          "M",
          "M",
          "M",
          "M",
          "M",
          "F",
          "M",
          "M",
          "M",
          "F",
          "M",
          "F",
          "F",
          "M",
          "M",
          "F",
          "F",
          "M",
          "M",
          "M",
          "M",
          "F",
          "M",
          "M",
          "M",
          "M",
          "M",
          "M",
          "M",
          "M",
          "M",
          "M",
          "M",
          "M",
          "F",
          "M",
          "M",
          "F",
          "M",
          "M",
          "F",
          "F",
          "M",
          "M",
          "M",
          "M",
          "M",
          "F",
          "M",
          "M",
          "M",
          "M",
          "F",
          "F",
          "M",
          "F",
          "M",
          "M",
          "M",
          "F",
          "F",
          "M",
          "M",
          "F",
          "M",
          "F",
          "M",
          "M",
          "M",
          "M",
          "M",
          "M",
          "M",
          "M",
          "M",
          "F",
          "M",
          "M",
          "F",
          "M",
          "M",
          "M",
          "M",
          "M",
          "F",
          "M",
          "F",
          "M",
          "M",
          "M",
          "M",
          "F",
          "M",
          "F",
          "M",
          "M",
          "F",
          "M",
          "F",
          "F",
          "M",
          "F",
          "M",
          "M",
          "M",
          "F",
          "M",
          "M",
          "F",
          "F",
          "M",
          "M",
          "M",
          "M",
          "M",
          "M",
          "M",
          "M",
          "F",
          "M",
          "M",
          "F",
          "M",
          "F",
          "M",
          "F",
          "M",
          "M",
          "F",
          "M",
          "M",
          "M",
          "M",
          "M",
          "F",
          "M",
          "M",
          "M",
          "M",
          "M",
          "M",
          "M",
          "M",
          "M",
          "M",
          "M",
          "M",
          "M",
          "M",
          "M",
          "M",
          "M",
          "F",
          "F",
          "M",
          "M",
          "M",
          "M",
          "M",
          "M",
          "F",
          "M",
          "F",
          "M",
          "M",
          "M",
          "M",
          "M",
          "F",
          "M",
          "F",
          "F",
          "F",
          "F",
          "M"
         ],
         "legendgroup": "",
         "name": "",
         "showlegend": true,
         "type": "pie"
        }
       ],
       "layout": {
        "legend": {
         "tracegroupgap": 0
        },
        "template": {
         "data": {
          "bar": [
           {
            "error_x": {
             "color": "#2a3f5f"
            },
            "error_y": {
             "color": "#2a3f5f"
            },
            "marker": {
             "line": {
              "color": "#E5ECF6",
              "width": 0.5
             },
             "pattern": {
              "fillmode": "overlay",
              "size": 10,
              "solidity": 0.2
             }
            },
            "type": "bar"
           }
          ],
          "barpolar": [
           {
            "marker": {
             "line": {
              "color": "#E5ECF6",
              "width": 0.5
             },
             "pattern": {
              "fillmode": "overlay",
              "size": 10,
              "solidity": 0.2
             }
            },
            "type": "barpolar"
           }
          ],
          "carpet": [
           {
            "aaxis": {
             "endlinecolor": "#2a3f5f",
             "gridcolor": "white",
             "linecolor": "white",
             "minorgridcolor": "white",
             "startlinecolor": "#2a3f5f"
            },
            "baxis": {
             "endlinecolor": "#2a3f5f",
             "gridcolor": "white",
             "linecolor": "white",
             "minorgridcolor": "white",
             "startlinecolor": "#2a3f5f"
            },
            "type": "carpet"
           }
          ],
          "choropleth": [
           {
            "colorbar": {
             "outlinewidth": 0,
             "ticks": ""
            },
            "type": "choropleth"
           }
          ],
          "contour": [
           {
            "colorbar": {
             "outlinewidth": 0,
             "ticks": ""
            },
            "colorscale": [
             [
              0,
              "#0d0887"
             ],
             [
              0.1111111111111111,
              "#46039f"
             ],
             [
              0.2222222222222222,
              "#7201a8"
             ],
             [
              0.3333333333333333,
              "#9c179e"
             ],
             [
              0.4444444444444444,
              "#bd3786"
             ],
             [
              0.5555555555555556,
              "#d8576b"
             ],
             [
              0.6666666666666666,
              "#ed7953"
             ],
             [
              0.7777777777777778,
              "#fb9f3a"
             ],
             [
              0.8888888888888888,
              "#fdca26"
             ],
             [
              1,
              "#f0f921"
             ]
            ],
            "type": "contour"
           }
          ],
          "contourcarpet": [
           {
            "colorbar": {
             "outlinewidth": 0,
             "ticks": ""
            },
            "type": "contourcarpet"
           }
          ],
          "heatmap": [
           {
            "colorbar": {
             "outlinewidth": 0,
             "ticks": ""
            },
            "colorscale": [
             [
              0,
              "#0d0887"
             ],
             [
              0.1111111111111111,
              "#46039f"
             ],
             [
              0.2222222222222222,
              "#7201a8"
             ],
             [
              0.3333333333333333,
              "#9c179e"
             ],
             [
              0.4444444444444444,
              "#bd3786"
             ],
             [
              0.5555555555555556,
              "#d8576b"
             ],
             [
              0.6666666666666666,
              "#ed7953"
             ],
             [
              0.7777777777777778,
              "#fb9f3a"
             ],
             [
              0.8888888888888888,
              "#fdca26"
             ],
             [
              1,
              "#f0f921"
             ]
            ],
            "type": "heatmap"
           }
          ],
          "heatmapgl": [
           {
            "colorbar": {
             "outlinewidth": 0,
             "ticks": ""
            },
            "colorscale": [
             [
              0,
              "#0d0887"
             ],
             [
              0.1111111111111111,
              "#46039f"
             ],
             [
              0.2222222222222222,
              "#7201a8"
             ],
             [
              0.3333333333333333,
              "#9c179e"
             ],
             [
              0.4444444444444444,
              "#bd3786"
             ],
             [
              0.5555555555555556,
              "#d8576b"
             ],
             [
              0.6666666666666666,
              "#ed7953"
             ],
             [
              0.7777777777777778,
              "#fb9f3a"
             ],
             [
              0.8888888888888888,
              "#fdca26"
             ],
             [
              1,
              "#f0f921"
             ]
            ],
            "type": "heatmapgl"
           }
          ],
          "histogram": [
           {
            "marker": {
             "pattern": {
              "fillmode": "overlay",
              "size": 10,
              "solidity": 0.2
             }
            },
            "type": "histogram"
           }
          ],
          "histogram2d": [
           {
            "colorbar": {
             "outlinewidth": 0,
             "ticks": ""
            },
            "colorscale": [
             [
              0,
              "#0d0887"
             ],
             [
              0.1111111111111111,
              "#46039f"
             ],
             [
              0.2222222222222222,
              "#7201a8"
             ],
             [
              0.3333333333333333,
              "#9c179e"
             ],
             [
              0.4444444444444444,
              "#bd3786"
             ],
             [
              0.5555555555555556,
              "#d8576b"
             ],
             [
              0.6666666666666666,
              "#ed7953"
             ],
             [
              0.7777777777777778,
              "#fb9f3a"
             ],
             [
              0.8888888888888888,
              "#fdca26"
             ],
             [
              1,
              "#f0f921"
             ]
            ],
            "type": "histogram2d"
           }
          ],
          "histogram2dcontour": [
           {
            "colorbar": {
             "outlinewidth": 0,
             "ticks": ""
            },
            "colorscale": [
             [
              0,
              "#0d0887"
             ],
             [
              0.1111111111111111,
              "#46039f"
             ],
             [
              0.2222222222222222,
              "#7201a8"
             ],
             [
              0.3333333333333333,
              "#9c179e"
             ],
             [
              0.4444444444444444,
              "#bd3786"
             ],
             [
              0.5555555555555556,
              "#d8576b"
             ],
             [
              0.6666666666666666,
              "#ed7953"
             ],
             [
              0.7777777777777778,
              "#fb9f3a"
             ],
             [
              0.8888888888888888,
              "#fdca26"
             ],
             [
              1,
              "#f0f921"
             ]
            ],
            "type": "histogram2dcontour"
           }
          ],
          "mesh3d": [
           {
            "colorbar": {
             "outlinewidth": 0,
             "ticks": ""
            },
            "type": "mesh3d"
           }
          ],
          "parcoords": [
           {
            "line": {
             "colorbar": {
              "outlinewidth": 0,
              "ticks": ""
             }
            },
            "type": "parcoords"
           }
          ],
          "pie": [
           {
            "automargin": true,
            "type": "pie"
           }
          ],
          "scatter": [
           {
            "fillpattern": {
             "fillmode": "overlay",
             "size": 10,
             "solidity": 0.2
            },
            "type": "scatter"
           }
          ],
          "scatter3d": [
           {
            "line": {
             "colorbar": {
              "outlinewidth": 0,
              "ticks": ""
             }
            },
            "marker": {
             "colorbar": {
              "outlinewidth": 0,
              "ticks": ""
             }
            },
            "type": "scatter3d"
           }
          ],
          "scattercarpet": [
           {
            "marker": {
             "colorbar": {
              "outlinewidth": 0,
              "ticks": ""
             }
            },
            "type": "scattercarpet"
           }
          ],
          "scattergeo": [
           {
            "marker": {
             "colorbar": {
              "outlinewidth": 0,
              "ticks": ""
             }
            },
            "type": "scattergeo"
           }
          ],
          "scattergl": [
           {
            "marker": {
             "colorbar": {
              "outlinewidth": 0,
              "ticks": ""
             }
            },
            "type": "scattergl"
           }
          ],
          "scattermapbox": [
           {
            "marker": {
             "colorbar": {
              "outlinewidth": 0,
              "ticks": ""
             }
            },
            "type": "scattermapbox"
           }
          ],
          "scatterpolar": [
           {
            "marker": {
             "colorbar": {
              "outlinewidth": 0,
              "ticks": ""
             }
            },
            "type": "scatterpolar"
           }
          ],
          "scatterpolargl": [
           {
            "marker": {
             "colorbar": {
              "outlinewidth": 0,
              "ticks": ""
             }
            },
            "type": "scatterpolargl"
           }
          ],
          "scatterternary": [
           {
            "marker": {
             "colorbar": {
              "outlinewidth": 0,
              "ticks": ""
             }
            },
            "type": "scatterternary"
           }
          ],
          "surface": [
           {
            "colorbar": {
             "outlinewidth": 0,
             "ticks": ""
            },
            "colorscale": [
             [
              0,
              "#0d0887"
             ],
             [
              0.1111111111111111,
              "#46039f"
             ],
             [
              0.2222222222222222,
              "#7201a8"
             ],
             [
              0.3333333333333333,
              "#9c179e"
             ],
             [
              0.4444444444444444,
              "#bd3786"
             ],
             [
              0.5555555555555556,
              "#d8576b"
             ],
             [
              0.6666666666666666,
              "#ed7953"
             ],
             [
              0.7777777777777778,
              "#fb9f3a"
             ],
             [
              0.8888888888888888,
              "#fdca26"
             ],
             [
              1,
              "#f0f921"
             ]
            ],
            "type": "surface"
           }
          ],
          "table": [
           {
            "cells": {
             "fill": {
              "color": "#EBF0F8"
             },
             "line": {
              "color": "white"
             }
            },
            "header": {
             "fill": {
              "color": "#C8D4E3"
             },
             "line": {
              "color": "white"
             }
            },
            "type": "table"
           }
          ]
         },
         "layout": {
          "annotationdefaults": {
           "arrowcolor": "#2a3f5f",
           "arrowhead": 0,
           "arrowwidth": 1
          },
          "autotypenumbers": "strict",
          "coloraxis": {
           "colorbar": {
            "outlinewidth": 0,
            "ticks": ""
           }
          },
          "colorscale": {
           "diverging": [
            [
             0,
             "#8e0152"
            ],
            [
             0.1,
             "#c51b7d"
            ],
            [
             0.2,
             "#de77ae"
            ],
            [
             0.3,
             "#f1b6da"
            ],
            [
             0.4,
             "#fde0ef"
            ],
            [
             0.5,
             "#f7f7f7"
            ],
            [
             0.6,
             "#e6f5d0"
            ],
            [
             0.7,
             "#b8e186"
            ],
            [
             0.8,
             "#7fbc41"
            ],
            [
             0.9,
             "#4d9221"
            ],
            [
             1,
             "#276419"
            ]
           ],
           "sequential": [
            [
             0,
             "#0d0887"
            ],
            [
             0.1111111111111111,
             "#46039f"
            ],
            [
             0.2222222222222222,
             "#7201a8"
            ],
            [
             0.3333333333333333,
             "#9c179e"
            ],
            [
             0.4444444444444444,
             "#bd3786"
            ],
            [
             0.5555555555555556,
             "#d8576b"
            ],
            [
             0.6666666666666666,
             "#ed7953"
            ],
            [
             0.7777777777777778,
             "#fb9f3a"
            ],
            [
             0.8888888888888888,
             "#fdca26"
            ],
            [
             1,
             "#f0f921"
            ]
           ],
           "sequentialminus": [
            [
             0,
             "#0d0887"
            ],
            [
             0.1111111111111111,
             "#46039f"
            ],
            [
             0.2222222222222222,
             "#7201a8"
            ],
            [
             0.3333333333333333,
             "#9c179e"
            ],
            [
             0.4444444444444444,
             "#bd3786"
            ],
            [
             0.5555555555555556,
             "#d8576b"
            ],
            [
             0.6666666666666666,
             "#ed7953"
            ],
            [
             0.7777777777777778,
             "#fb9f3a"
            ],
            [
             0.8888888888888888,
             "#fdca26"
            ],
            [
             1,
             "#f0f921"
            ]
           ]
          },
          "colorway": [
           "#636efa",
           "#EF553B",
           "#00cc96",
           "#ab63fa",
           "#FFA15A",
           "#19d3f3",
           "#FF6692",
           "#B6E880",
           "#FF97FF",
           "#FECB52"
          ],
          "font": {
           "color": "#2a3f5f"
          },
          "geo": {
           "bgcolor": "white",
           "lakecolor": "white",
           "landcolor": "#E5ECF6",
           "showlakes": true,
           "showland": true,
           "subunitcolor": "white"
          },
          "hoverlabel": {
           "align": "left"
          },
          "hovermode": "closest",
          "mapbox": {
           "style": "light"
          },
          "paper_bgcolor": "white",
          "plot_bgcolor": "#E5ECF6",
          "polar": {
           "angularaxis": {
            "gridcolor": "white",
            "linecolor": "white",
            "ticks": ""
           },
           "bgcolor": "#E5ECF6",
           "radialaxis": {
            "gridcolor": "white",
            "linecolor": "white",
            "ticks": ""
           }
          },
          "scene": {
           "xaxis": {
            "backgroundcolor": "#E5ECF6",
            "gridcolor": "white",
            "gridwidth": 2,
            "linecolor": "white",
            "showbackground": true,
            "ticks": "",
            "zerolinecolor": "white"
           },
           "yaxis": {
            "backgroundcolor": "#E5ECF6",
            "gridcolor": "white",
            "gridwidth": 2,
            "linecolor": "white",
            "showbackground": true,
            "ticks": "",
            "zerolinecolor": "white"
           },
           "zaxis": {
            "backgroundcolor": "#E5ECF6",
            "gridcolor": "white",
            "gridwidth": 2,
            "linecolor": "white",
            "showbackground": true,
            "ticks": "",
            "zerolinecolor": "white"
           }
          },
          "shapedefaults": {
           "line": {
            "color": "#2a3f5f"
           }
          },
          "ternary": {
           "aaxis": {
            "gridcolor": "white",
            "linecolor": "white",
            "ticks": ""
           },
           "baxis": {
            "gridcolor": "white",
            "linecolor": "white",
            "ticks": ""
           },
           "bgcolor": "#E5ECF6",
           "caxis": {
            "gridcolor": "white",
            "linecolor": "white",
            "ticks": ""
           }
          },
          "title": {
           "x": 0.05
          },
          "xaxis": {
           "automargin": true,
           "gridcolor": "white",
           "linecolor": "white",
           "ticks": "",
           "title": {
            "standoff": 15
           },
           "zerolinecolor": "white",
           "zerolinewidth": 2
          },
          "yaxis": {
           "automargin": true,
           "gridcolor": "white",
           "linecolor": "white",
           "ticks": "",
           "title": {
            "standoff": 15
           },
           "zerolinecolor": "white",
           "zerolinewidth": 2
          }
         }
        },
        "title": {
         "text": " gender status"
        }
       }
      }
     },
     "metadata": {},
     "output_type": "display_data"
    }
   ],
   "source": [
    "px.pie(data_frame=df , names='gender',title= ' gender status')"
   ]
  },
  {
   "cell_type": "code",
   "execution_count": 160,
   "metadata": {},
   "outputs": [
    {
     "data": {
      "application/vnd.plotly.v1+json": {
       "config": {
        "plotlyServerURL": "https://plot.ly"
       },
       "data": [
        {
         "domain": {
          "x": [
           0,
           1
          ],
          "y": [
           0,
           1
          ]
         },
         "hovertemplate": "gender=%{label}<extra></extra>",
         "labels": [
          "M",
          "M",
          "M",
          "M",
          "F",
          "M",
          "M",
          "M",
          "M",
          "M",
          "M",
          "F",
          "M",
          "M",
          "M",
          "M",
          "M",
          "F",
          "F",
          "M",
          "M",
          "M",
          "M",
          "M",
          "M",
          "M",
          "M",
          "F",
          "F",
          "M",
          "F",
          "M",
          "M",
          "M",
          "M",
          "M",
          "M",
          "M",
          "F",
          "M",
          "M",
          "M",
          "M",
          "M",
          "M",
          "M",
          "M",
          "M",
          "M",
          "M",
          "M",
          "M",
          "M",
          "F",
          "M",
          "M",
          "F",
          "M",
          "M",
          "M",
          "M",
          "M",
          "M",
          "M",
          "M",
          "M",
          "F",
          "M",
          "F",
          "M",
          "M",
          "M",
          "M",
          "F",
          "M",
          "M",
          "M",
          "F",
          "M",
          "M",
          "F",
          "M",
          "M",
          "F",
          "F",
          "F",
          "M",
          "F",
          "M",
          "F",
          "M",
          "F",
          "M",
          "M",
          "F",
          "M",
          "F",
          "M",
          "M",
          "M",
          "F",
          "F",
          "M",
          "F",
          "F",
          "M",
          "F",
          "M",
          "F",
          "M",
          "M",
          "M",
          "F",
          "F",
          "M",
          "M",
          "M",
          "M",
          "M",
          "M",
          "M",
          "M",
          "M",
          "M",
          "M",
          "M",
          "F",
          "M",
          "M",
          "M",
          "M",
          "F",
          "M",
          "F",
          "M",
          "M",
          "F",
          "F",
          "F",
          "F",
          "M",
          "F",
          "M",
          "F",
          "M",
          "M",
          "F",
          "M",
          "M",
          "F",
          "M",
          "F",
          "F",
          "M",
          "F",
          "M",
          "M",
          "F",
          "M",
          "M",
          "M",
          "M",
          "F",
          "M",
          "M",
          "M",
          "F",
          "M",
          "M",
          "M",
          "M",
          "F",
          "M",
          "F",
          "M",
          "F",
          "M",
          "M",
          "M",
          "M",
          "M",
          "M",
          "M",
          "M",
          "M",
          "M",
          "F",
          "M",
          "M",
          "M",
          "M",
          "F",
          "M",
          "F",
          "M",
          "M",
          "F",
          "M",
          "M",
          "M",
          "F",
          "F",
          "F",
          "F",
          "F",
          "M",
          "M",
          "M",
          "M",
          "M",
          "M",
          "F",
          "M",
          "M",
          "F",
          "M",
          "M",
          "F",
          "M",
          "M",
          "M",
          "F",
          "M",
          "M",
          "M",
          "M",
          "M",
          "M",
          "F",
          "M",
          "M",
          "M",
          "F",
          "M",
          "M",
          "F",
          "F",
          "M",
          "M",
          "M",
          "M",
          "M",
          "M",
          "F",
          "F",
          "M",
          "M",
          "M",
          "M",
          "M",
          "F",
          "F",
          "M",
          "F",
          "M",
          "F",
          "M",
          "F",
          "M",
          "F",
          "M",
          "M",
          "M",
          "M",
          "F",
          "M",
          "F",
          "M",
          "M",
          "M",
          "M",
          "M",
          "F",
          "F",
          "F",
          "F",
          "M",
          "F",
          "M",
          "M",
          "F",
          "M",
          "M",
          "M",
          "F",
          "M",
          "F",
          "M",
          "M",
          "M",
          "M",
          "M",
          "F",
          "M",
          "M",
          "M",
          "M",
          "F",
          "M",
          "F",
          "M",
          "F",
          "M",
          "F",
          "M",
          "M",
          "M",
          "M",
          "M",
          "F",
          "F",
          "M",
          "M",
          "F",
          "M",
          "F",
          "M",
          "M",
          "M",
          "F",
          "M",
          "M",
          "M",
          "M",
          "M",
          "M",
          "M",
          "M",
          "M",
          "M",
          "M",
          "F",
          "M",
          "M",
          "F",
          "F",
          "F",
          "M",
          "M",
          "F",
          "M",
          "M",
          "M",
          "M",
          "M",
          "F",
          "M",
          "F",
          "F",
          "M",
          "M",
          "M",
          "M",
          "M",
          "F",
          "M",
          "M",
          "M",
          "M",
          "M",
          "F",
          "M",
          "M",
          "M",
          "M",
          "M",
          "F",
          "M",
          "F",
          "M",
          "M",
          "M",
          "F",
          "F",
          "F",
          "F",
          "F",
          "M",
          "F",
          "F",
          "F",
          "M",
          "M",
          "M",
          "M",
          "M",
          "M",
          "M",
          "M",
          "M",
          "F",
          "M",
          "F",
          "F",
          "M",
          "M",
          "F",
          "F",
          "M",
          "F",
          "M",
          "M",
          "M",
          "M",
          "M",
          "F",
          "M",
          "M",
          "M",
          "M",
          "M",
          "F",
          "M",
          "M",
          "M",
          "M",
          "M",
          "M",
          "M",
          "F",
          "M",
          "M",
          "M",
          "F",
          "M",
          "M",
          "M",
          "M",
          "M",
          "M",
          "M",
          "M",
          "F",
          "F",
          "M",
          "M",
          "M",
          "M",
          "M",
          "M",
          "M",
          "M",
          "M",
          "M",
          "M",
          "M",
          "M",
          "M",
          "F",
          "F",
          "M",
          "M",
          "M",
          "M",
          "M",
          "F",
          "F",
          "F",
          "M",
          "F",
          "M",
          "M",
          "M",
          "M",
          "M",
          "M",
          "F",
          "M",
          "M",
          "F",
          "M",
          "F",
          "F",
          "F",
          "M",
          "F",
          "M",
          "M",
          "M",
          "M",
          "M",
          "F",
          "F",
          "F",
          "F",
          "M",
          "M",
          "F",
          "M",
          "M",
          "M",
          "F",
          "F",
          "M",
          "F",
          "M",
          "M",
          "M",
          "M",
          "M",
          "F",
          "M",
          "M",
          "M",
          "F",
          "M",
          "F",
          "F",
          "M",
          "M",
          "F",
          "F",
          "M",
          "M",
          "M",
          "M",
          "F",
          "M",
          "M",
          "M",
          "M",
          "M",
          "M",
          "M",
          "M",
          "M",
          "M",
          "M",
          "M",
          "F",
          "M",
          "M",
          "F",
          "M",
          "M",
          "F",
          "F",
          "M",
          "M",
          "M",
          "M",
          "M",
          "F",
          "M",
          "M",
          "M",
          "M",
          "F",
          "F",
          "M",
          "F",
          "M",
          "M",
          "M",
          "F",
          "F",
          "M",
          "M",
          "F",
          "M",
          "F",
          "M",
          "M",
          "M",
          "M",
          "M",
          "M",
          "M",
          "M",
          "M",
          "F",
          "M",
          "M",
          "F",
          "M",
          "M",
          "M",
          "M",
          "M",
          "F",
          "M",
          "F",
          "M",
          "M",
          "M",
          "M",
          "F",
          "M",
          "F",
          "M",
          "M",
          "F",
          "M",
          "F",
          "F",
          "M",
          "F",
          "M",
          "M",
          "M",
          "F",
          "M",
          "M",
          "F",
          "F",
          "M",
          "M",
          "M",
          "M",
          "M",
          "M",
          "M",
          "M",
          "F",
          "M",
          "M",
          "F",
          "M",
          "F",
          "M",
          "F",
          "M",
          "M",
          "F",
          "M",
          "M",
          "M",
          "M",
          "M",
          "F",
          "M",
          "M",
          "M",
          "M",
          "M",
          "M",
          "M",
          "M",
          "M",
          "M",
          "M",
          "M",
          "M",
          "M",
          "M",
          "M",
          "M",
          "F",
          "F",
          "M",
          "M",
          "M",
          "M",
          "M",
          "M",
          "F",
          "M",
          "F",
          "M",
          "M",
          "M",
          "M",
          "M",
          "F",
          "M",
          "F",
          "F",
          "F",
          "F",
          "M"
         ],
         "legendgroup": "",
         "name": "",
         "showlegend": true,
         "type": "pie"
        }
       ],
       "layout": {
        "legend": {
         "tracegroupgap": 0
        },
        "template": {
         "data": {
          "bar": [
           {
            "error_x": {
             "color": "#2a3f5f"
            },
            "error_y": {
             "color": "#2a3f5f"
            },
            "marker": {
             "line": {
              "color": "#E5ECF6",
              "width": 0.5
             },
             "pattern": {
              "fillmode": "overlay",
              "size": 10,
              "solidity": 0.2
             }
            },
            "type": "bar"
           }
          ],
          "barpolar": [
           {
            "marker": {
             "line": {
              "color": "#E5ECF6",
              "width": 0.5
             },
             "pattern": {
              "fillmode": "overlay",
              "size": 10,
              "solidity": 0.2
             }
            },
            "type": "barpolar"
           }
          ],
          "carpet": [
           {
            "aaxis": {
             "endlinecolor": "#2a3f5f",
             "gridcolor": "white",
             "linecolor": "white",
             "minorgridcolor": "white",
             "startlinecolor": "#2a3f5f"
            },
            "baxis": {
             "endlinecolor": "#2a3f5f",
             "gridcolor": "white",
             "linecolor": "white",
             "minorgridcolor": "white",
             "startlinecolor": "#2a3f5f"
            },
            "type": "carpet"
           }
          ],
          "choropleth": [
           {
            "colorbar": {
             "outlinewidth": 0,
             "ticks": ""
            },
            "type": "choropleth"
           }
          ],
          "contour": [
           {
            "colorbar": {
             "outlinewidth": 0,
             "ticks": ""
            },
            "colorscale": [
             [
              0,
              "#0d0887"
             ],
             [
              0.1111111111111111,
              "#46039f"
             ],
             [
              0.2222222222222222,
              "#7201a8"
             ],
             [
              0.3333333333333333,
              "#9c179e"
             ],
             [
              0.4444444444444444,
              "#bd3786"
             ],
             [
              0.5555555555555556,
              "#d8576b"
             ],
             [
              0.6666666666666666,
              "#ed7953"
             ],
             [
              0.7777777777777778,
              "#fb9f3a"
             ],
             [
              0.8888888888888888,
              "#fdca26"
             ],
             [
              1,
              "#f0f921"
             ]
            ],
            "type": "contour"
           }
          ],
          "contourcarpet": [
           {
            "colorbar": {
             "outlinewidth": 0,
             "ticks": ""
            },
            "type": "contourcarpet"
           }
          ],
          "heatmap": [
           {
            "colorbar": {
             "outlinewidth": 0,
             "ticks": ""
            },
            "colorscale": [
             [
              0,
              "#0d0887"
             ],
             [
              0.1111111111111111,
              "#46039f"
             ],
             [
              0.2222222222222222,
              "#7201a8"
             ],
             [
              0.3333333333333333,
              "#9c179e"
             ],
             [
              0.4444444444444444,
              "#bd3786"
             ],
             [
              0.5555555555555556,
              "#d8576b"
             ],
             [
              0.6666666666666666,
              "#ed7953"
             ],
             [
              0.7777777777777778,
              "#fb9f3a"
             ],
             [
              0.8888888888888888,
              "#fdca26"
             ],
             [
              1,
              "#f0f921"
             ]
            ],
            "type": "heatmap"
           }
          ],
          "heatmapgl": [
           {
            "colorbar": {
             "outlinewidth": 0,
             "ticks": ""
            },
            "colorscale": [
             [
              0,
              "#0d0887"
             ],
             [
              0.1111111111111111,
              "#46039f"
             ],
             [
              0.2222222222222222,
              "#7201a8"
             ],
             [
              0.3333333333333333,
              "#9c179e"
             ],
             [
              0.4444444444444444,
              "#bd3786"
             ],
             [
              0.5555555555555556,
              "#d8576b"
             ],
             [
              0.6666666666666666,
              "#ed7953"
             ],
             [
              0.7777777777777778,
              "#fb9f3a"
             ],
             [
              0.8888888888888888,
              "#fdca26"
             ],
             [
              1,
              "#f0f921"
             ]
            ],
            "type": "heatmapgl"
           }
          ],
          "histogram": [
           {
            "marker": {
             "pattern": {
              "fillmode": "overlay",
              "size": 10,
              "solidity": 0.2
             }
            },
            "type": "histogram"
           }
          ],
          "histogram2d": [
           {
            "colorbar": {
             "outlinewidth": 0,
             "ticks": ""
            },
            "colorscale": [
             [
              0,
              "#0d0887"
             ],
             [
              0.1111111111111111,
              "#46039f"
             ],
             [
              0.2222222222222222,
              "#7201a8"
             ],
             [
              0.3333333333333333,
              "#9c179e"
             ],
             [
              0.4444444444444444,
              "#bd3786"
             ],
             [
              0.5555555555555556,
              "#d8576b"
             ],
             [
              0.6666666666666666,
              "#ed7953"
             ],
             [
              0.7777777777777778,
              "#fb9f3a"
             ],
             [
              0.8888888888888888,
              "#fdca26"
             ],
             [
              1,
              "#f0f921"
             ]
            ],
            "type": "histogram2d"
           }
          ],
          "histogram2dcontour": [
           {
            "colorbar": {
             "outlinewidth": 0,
             "ticks": ""
            },
            "colorscale": [
             [
              0,
              "#0d0887"
             ],
             [
              0.1111111111111111,
              "#46039f"
             ],
             [
              0.2222222222222222,
              "#7201a8"
             ],
             [
              0.3333333333333333,
              "#9c179e"
             ],
             [
              0.4444444444444444,
              "#bd3786"
             ],
             [
              0.5555555555555556,
              "#d8576b"
             ],
             [
              0.6666666666666666,
              "#ed7953"
             ],
             [
              0.7777777777777778,
              "#fb9f3a"
             ],
             [
              0.8888888888888888,
              "#fdca26"
             ],
             [
              1,
              "#f0f921"
             ]
            ],
            "type": "histogram2dcontour"
           }
          ],
          "mesh3d": [
           {
            "colorbar": {
             "outlinewidth": 0,
             "ticks": ""
            },
            "type": "mesh3d"
           }
          ],
          "parcoords": [
           {
            "line": {
             "colorbar": {
              "outlinewidth": 0,
              "ticks": ""
             }
            },
            "type": "parcoords"
           }
          ],
          "pie": [
           {
            "automargin": true,
            "type": "pie"
           }
          ],
          "scatter": [
           {
            "fillpattern": {
             "fillmode": "overlay",
             "size": 10,
             "solidity": 0.2
            },
            "type": "scatter"
           }
          ],
          "scatter3d": [
           {
            "line": {
             "colorbar": {
              "outlinewidth": 0,
              "ticks": ""
             }
            },
            "marker": {
             "colorbar": {
              "outlinewidth": 0,
              "ticks": ""
             }
            },
            "type": "scatter3d"
           }
          ],
          "scattercarpet": [
           {
            "marker": {
             "colorbar": {
              "outlinewidth": 0,
              "ticks": ""
             }
            },
            "type": "scattercarpet"
           }
          ],
          "scattergeo": [
           {
            "marker": {
             "colorbar": {
              "outlinewidth": 0,
              "ticks": ""
             }
            },
            "type": "scattergeo"
           }
          ],
          "scattergl": [
           {
            "marker": {
             "colorbar": {
              "outlinewidth": 0,
              "ticks": ""
             }
            },
            "type": "scattergl"
           }
          ],
          "scattermapbox": [
           {
            "marker": {
             "colorbar": {
              "outlinewidth": 0,
              "ticks": ""
             }
            },
            "type": "scattermapbox"
           }
          ],
          "scatterpolar": [
           {
            "marker": {
             "colorbar": {
              "outlinewidth": 0,
              "ticks": ""
             }
            },
            "type": "scatterpolar"
           }
          ],
          "scatterpolargl": [
           {
            "marker": {
             "colorbar": {
              "outlinewidth": 0,
              "ticks": ""
             }
            },
            "type": "scatterpolargl"
           }
          ],
          "scatterternary": [
           {
            "marker": {
             "colorbar": {
              "outlinewidth": 0,
              "ticks": ""
             }
            },
            "type": "scatterternary"
           }
          ],
          "surface": [
           {
            "colorbar": {
             "outlinewidth": 0,
             "ticks": ""
            },
            "colorscale": [
             [
              0,
              "#0d0887"
             ],
             [
              0.1111111111111111,
              "#46039f"
             ],
             [
              0.2222222222222222,
              "#7201a8"
             ],
             [
              0.3333333333333333,
              "#9c179e"
             ],
             [
              0.4444444444444444,
              "#bd3786"
             ],
             [
              0.5555555555555556,
              "#d8576b"
             ],
             [
              0.6666666666666666,
              "#ed7953"
             ],
             [
              0.7777777777777778,
              "#fb9f3a"
             ],
             [
              0.8888888888888888,
              "#fdca26"
             ],
             [
              1,
              "#f0f921"
             ]
            ],
            "type": "surface"
           }
          ],
          "table": [
           {
            "cells": {
             "fill": {
              "color": "#EBF0F8"
             },
             "line": {
              "color": "white"
             }
            },
            "header": {
             "fill": {
              "color": "#C8D4E3"
             },
             "line": {
              "color": "white"
             }
            },
            "type": "table"
           }
          ]
         },
         "layout": {
          "annotationdefaults": {
           "arrowcolor": "#2a3f5f",
           "arrowhead": 0,
           "arrowwidth": 1
          },
          "autotypenumbers": "strict",
          "coloraxis": {
           "colorbar": {
            "outlinewidth": 0,
            "ticks": ""
           }
          },
          "colorscale": {
           "diverging": [
            [
             0,
             "#8e0152"
            ],
            [
             0.1,
             "#c51b7d"
            ],
            [
             0.2,
             "#de77ae"
            ],
            [
             0.3,
             "#f1b6da"
            ],
            [
             0.4,
             "#fde0ef"
            ],
            [
             0.5,
             "#f7f7f7"
            ],
            [
             0.6,
             "#e6f5d0"
            ],
            [
             0.7,
             "#b8e186"
            ],
            [
             0.8,
             "#7fbc41"
            ],
            [
             0.9,
             "#4d9221"
            ],
            [
             1,
             "#276419"
            ]
           ],
           "sequential": [
            [
             0,
             "#0d0887"
            ],
            [
             0.1111111111111111,
             "#46039f"
            ],
            [
             0.2222222222222222,
             "#7201a8"
            ],
            [
             0.3333333333333333,
             "#9c179e"
            ],
            [
             0.4444444444444444,
             "#bd3786"
            ],
            [
             0.5555555555555556,
             "#d8576b"
            ],
            [
             0.6666666666666666,
             "#ed7953"
            ],
            [
             0.7777777777777778,
             "#fb9f3a"
            ],
            [
             0.8888888888888888,
             "#fdca26"
            ],
            [
             1,
             "#f0f921"
            ]
           ],
           "sequentialminus": [
            [
             0,
             "#0d0887"
            ],
            [
             0.1111111111111111,
             "#46039f"
            ],
            [
             0.2222222222222222,
             "#7201a8"
            ],
            [
             0.3333333333333333,
             "#9c179e"
            ],
            [
             0.4444444444444444,
             "#bd3786"
            ],
            [
             0.5555555555555556,
             "#d8576b"
            ],
            [
             0.6666666666666666,
             "#ed7953"
            ],
            [
             0.7777777777777778,
             "#fb9f3a"
            ],
            [
             0.8888888888888888,
             "#fdca26"
            ],
            [
             1,
             "#f0f921"
            ]
           ]
          },
          "colorway": [
           "#636efa",
           "#EF553B",
           "#00cc96",
           "#ab63fa",
           "#FFA15A",
           "#19d3f3",
           "#FF6692",
           "#B6E880",
           "#FF97FF",
           "#FECB52"
          ],
          "font": {
           "color": "#2a3f5f"
          },
          "geo": {
           "bgcolor": "white",
           "lakecolor": "white",
           "landcolor": "#E5ECF6",
           "showlakes": true,
           "showland": true,
           "subunitcolor": "white"
          },
          "hoverlabel": {
           "align": "left"
          },
          "hovermode": "closest",
          "mapbox": {
           "style": "light"
          },
          "paper_bgcolor": "white",
          "plot_bgcolor": "#E5ECF6",
          "polar": {
           "angularaxis": {
            "gridcolor": "white",
            "linecolor": "white",
            "ticks": ""
           },
           "bgcolor": "#E5ECF6",
           "radialaxis": {
            "gridcolor": "white",
            "linecolor": "white",
            "ticks": ""
           }
          },
          "scene": {
           "xaxis": {
            "backgroundcolor": "#E5ECF6",
            "gridcolor": "white",
            "gridwidth": 2,
            "linecolor": "white",
            "showbackground": true,
            "ticks": "",
            "zerolinecolor": "white"
           },
           "yaxis": {
            "backgroundcolor": "#E5ECF6",
            "gridcolor": "white",
            "gridwidth": 2,
            "linecolor": "white",
            "showbackground": true,
            "ticks": "",
            "zerolinecolor": "white"
           },
           "zaxis": {
            "backgroundcolor": "#E5ECF6",
            "gridcolor": "white",
            "gridwidth": 2,
            "linecolor": "white",
            "showbackground": true,
            "ticks": "",
            "zerolinecolor": "white"
           }
          },
          "shapedefaults": {
           "line": {
            "color": "#2a3f5f"
           }
          },
          "ternary": {
           "aaxis": {
            "gridcolor": "white",
            "linecolor": "white",
            "ticks": ""
           },
           "baxis": {
            "gridcolor": "white",
            "linecolor": "white",
            "ticks": ""
           },
           "bgcolor": "#E5ECF6",
           "caxis": {
            "gridcolor": "white",
            "linecolor": "white",
            "ticks": ""
           }
          },
          "title": {
           "x": 0.05
          },
          "xaxis": {
           "automargin": true,
           "gridcolor": "white",
           "linecolor": "white",
           "ticks": "",
           "title": {
            "standoff": 15
           },
           "zerolinecolor": "white",
           "zerolinewidth": 2
          },
          "yaxis": {
           "automargin": true,
           "gridcolor": "white",
           "linecolor": "white",
           "ticks": "",
           "title": {
            "standoff": 15
           },
           "zerolinecolor": "white",
           "zerolinewidth": 2
          }
         }
        },
        "title": {
         "text": " gender status"
        }
       }
      }
     },
     "metadata": {},
     "output_type": "display_data"
    }
   ],
   "source": [
    "px.pie(data_frame=df , names='gender',title= ' gender status')"
   ]
  },
  {
   "cell_type": "code",
   "execution_count": 161,
   "metadata": {},
   "outputs": [
    {
     "data": {
      "text/plain": [
       "<AxesSubplot:title={'center':'hsc_subjects'}>"
      ]
     },
     "execution_count": 161,
     "metadata": {},
     "output_type": "execute_result"
    },
    {
     "data": {
      "image/png": "[encoded data removed]",
      "text/plain": [
       "<Figure size 1080x360 with 1 Axes>"
      ]
     },
     "metadata": {
      "needs_background": "light"
     },
     "output_type": "display_data"
    }
   ],
   "source": [
    "df['hsc_p'].plot (kind='line',title='hsc_subjects',figsize=(15,5))\n"
   ]
  },
  {
   "cell_type": "code",
   "execution_count": 162,
   "metadata": {},
   "outputs": [
    {
     "data": {
      "text/plain": [
       "<AxesSubplot:title={'center':'hsc_subjects'}>"
      ]
     },
     "execution_count": 162,
     "metadata": {},
     "output_type": "execute_result"
    },
    {
     "data": {
      "image/png": "[encoded data removed]",
      "text/plain": [
       "<Figure size 1080x360 with 1 Axes>"
      ]
     },
     "metadata": {
      "needs_background": "light"
     },
     "output_type": "display_data"
    }
   ],
   "source": [
    "df['degree_p'].plot (kind='line',title='hsc_subjects',figsize=(15,5))\n"
   ]
  },
  {
   "cell_type": "code",
   "execution_count": 163,
   "metadata": {},
   "outputs": [],
   "source": [
    "df.sort_values(by='gender', ascending=False,inplace=True)\n"
   ]
  },
  {
   "cell_type": "code",
   "execution_count": 164,
   "metadata": {},
   "outputs": [],
   "source": [
    "df.sort_values(by=['hsc_p','ssc_p'], ascending=False,inplace=True)\n"
   ]
  },
  {
   "cell_type": "code",
   "execution_count": 165,
   "metadata": {},
   "outputs": [
    {
     "data": {
      "text/html": [
       "<div>\n",
       "<style scoped>\n",
       "    .dataframe tbody tr th:only-of-type {\n",
       "        vertical-align: middle;\n",
       "    }\n",
       "\n",
       "    .dataframe tbody tr th {\n",
       "        vertical-align: top;\n",
       "    }\n",
       "\n",
       "    .dataframe thead th {\n",
       "        text-align: right;\n",
       "    }\n",
       "</style>\n",
       "<table border=\"1\" class=\"dataframe\">\n",
       "  <thead>\n",
       "    <tr style=\"text-align: right;\">\n",
       "      <th></th>\n",
       "      <th>gender</th>\n",
       "      <th>ssc_p</th>\n",
       "      <th>ssc_b</th>\n",
       "      <th>hsc_p</th>\n",
       "      <th>hsc_b</th>\n",
       "      <th>hsc_s</th>\n",
       "      <th>degree_p</th>\n",
       "      <th>degree_t</th>\n",
       "      <th>etest_p</th>\n",
       "      <th>mba_p</th>\n",
       "      <th>specialisation</th>\n",
       "      <th>workex</th>\n",
       "      <th>status</th>\n",
       "    </tr>\n",
       "  </thead>\n",
       "  <tbody>\n",
       "    <tr>\n",
       "      <th>9</th>\n",
       "      <td>M</td>\n",
       "      <td>76.500000</td>\n",
       "      <td>Others</td>\n",
       "      <td>97.700000</td>\n",
       "      <td>Others</td>\n",
       "      <td>Science</td>\n",
       "      <td>78.860000</td>\n",
       "      <td>Sci&amp;Tech</td>\n",
       "      <td>97.400000</td>\n",
       "      <td>74.010000</td>\n",
       "      <td>Mkt&amp;Fin</td>\n",
       "      <td>No</td>\n",
       "      <td>Placed</td>\n",
       "    </tr>\n",
       "    <tr>\n",
       "      <th>254</th>\n",
       "      <td>M</td>\n",
       "      <td>76.572625</td>\n",
       "      <td>Central</td>\n",
       "      <td>97.202913</td>\n",
       "      <td>Others</td>\n",
       "      <td>Science</td>\n",
       "      <td>78.824585</td>\n",
       "      <td>Sci&amp;Tech</td>\n",
       "      <td>97.120276</td>\n",
       "      <td>73.811627</td>\n",
       "      <td>Mkt&amp;Fin</td>\n",
       "      <td>Yes</td>\n",
       "      <td>Placed</td>\n",
       "    </tr>\n",
       "    <tr>\n",
       "      <th>42</th>\n",
       "      <td>M</td>\n",
       "      <td>76.596104</td>\n",
       "      <td>Central</td>\n",
       "      <td>97.062076</td>\n",
       "      <td>Others</td>\n",
       "      <td>Commerce</td>\n",
       "      <td>78.639851</td>\n",
       "      <td>Comm&amp;Mgmt</td>\n",
       "      <td>97.035814</td>\n",
       "      <td>73.630762</td>\n",
       "      <td>Mkt&amp;Fin</td>\n",
       "      <td>Yes</td>\n",
       "      <td>Placed</td>\n",
       "    </tr>\n",
       "    <tr>\n",
       "      <th>232</th>\n",
       "      <td>F</td>\n",
       "      <td>73.000000</td>\n",
       "      <td>Central</td>\n",
       "      <td>97.000000</td>\n",
       "      <td>Others</td>\n",
       "      <td>Commerce</td>\n",
       "      <td>79.000000</td>\n",
       "      <td>Comm&amp;Mgmt</td>\n",
       "      <td>89.000000</td>\n",
       "      <td>70.810000</td>\n",
       "      <td>Mkt&amp;Fin</td>\n",
       "      <td>Yes</td>\n",
       "      <td>Placed</td>\n",
       "    </tr>\n",
       "    <tr>\n",
       "      <th>606</th>\n",
       "      <td>M</td>\n",
       "      <td>76.352197</td>\n",
       "      <td>Central</td>\n",
       "      <td>96.220659</td>\n",
       "      <td>Others</td>\n",
       "      <td>Commerce</td>\n",
       "      <td>78.500320</td>\n",
       "      <td>Comm&amp;Mgmt</td>\n",
       "      <td>96.492543</td>\n",
       "      <td>73.401476</td>\n",
       "      <td>Mkt&amp;Fin</td>\n",
       "      <td>Yes</td>\n",
       "      <td>Placed</td>\n",
       "    </tr>\n",
       "    <tr>\n",
       "      <th>...</th>\n",
       "      <td>...</td>\n",
       "      <td>...</td>\n",
       "      <td>...</td>\n",
       "      <td>...</td>\n",
       "      <td>...</td>\n",
       "      <td>...</td>\n",
       "      <td>...</td>\n",
       "      <td>...</td>\n",
       "      <td>...</td>\n",
       "      <td>...</td>\n",
       "      <td>...</td>\n",
       "      <td>...</td>\n",
       "      <td>...</td>\n",
       "    </tr>\n",
       "    <tr>\n",
       "      <th>590</th>\n",
       "      <td>M</td>\n",
       "      <td>49.616536</td>\n",
       "      <td>Others</td>\n",
       "      <td>37.766928</td>\n",
       "      <td>Others</td>\n",
       "      <td>Science</td>\n",
       "      <td>56.985031</td>\n",
       "      <td>Others</td>\n",
       "      <td>64.233072</td>\n",
       "      <td>54.231027</td>\n",
       "      <td>Mkt&amp;HR</td>\n",
       "      <td>No</td>\n",
       "      <td>Not Placed</td>\n",
       "    </tr>\n",
       "    <tr>\n",
       "      <th>283</th>\n",
       "      <td>M</td>\n",
       "      <td>50.635677</td>\n",
       "      <td>Others</td>\n",
       "      <td>37.601769</td>\n",
       "      <td>Others</td>\n",
       "      <td>Science</td>\n",
       "      <td>52.009315</td>\n",
       "      <td>Others</td>\n",
       "      <td>65.597111</td>\n",
       "      <td>56.095786</td>\n",
       "      <td>Mkt&amp;HR</td>\n",
       "      <td>No</td>\n",
       "      <td>Not Placed</td>\n",
       "    </tr>\n",
       "    <tr>\n",
       "      <th>195</th>\n",
       "      <td>M</td>\n",
       "      <td>49.923044</td>\n",
       "      <td>Others</td>\n",
       "      <td>37.153913</td>\n",
       "      <td>Others</td>\n",
       "      <td>Science</td>\n",
       "      <td>53.000434</td>\n",
       "      <td>Others</td>\n",
       "      <td>64.846087</td>\n",
       "      <td>55.732913</td>\n",
       "      <td>Mkt&amp;HR</td>\n",
       "      <td>No</td>\n",
       "      <td>Not Placed</td>\n",
       "    </tr>\n",
       "    <tr>\n",
       "      <th>81</th>\n",
       "      <td>M</td>\n",
       "      <td>49.943152</td>\n",
       "      <td>Others</td>\n",
       "      <td>37.113696</td>\n",
       "      <td>Others</td>\n",
       "      <td>Science</td>\n",
       "      <td>52.739025</td>\n",
       "      <td>Others</td>\n",
       "      <td>64.886304</td>\n",
       "      <td>55.831444</td>\n",
       "      <td>Mkt&amp;HR</td>\n",
       "      <td>No</td>\n",
       "      <td>Not Placed</td>\n",
       "    </tr>\n",
       "    <tr>\n",
       "      <th>198</th>\n",
       "      <td>M</td>\n",
       "      <td>50.104055</td>\n",
       "      <td>Others</td>\n",
       "      <td>37.106246</td>\n",
       "      <td>Others</td>\n",
       "      <td>Science</td>\n",
       "      <td>52.088463</td>\n",
       "      <td>Others</td>\n",
       "      <td>65.106641</td>\n",
       "      <td>56.143373</td>\n",
       "      <td>Mkt&amp;HR</td>\n",
       "      <td>No</td>\n",
       "      <td>Not Placed</td>\n",
       "    </tr>\n",
       "  </tbody>\n",
       "</table>\n",
       "<p>670 rows × 13 columns</p>\n",
       "</div>"
      ],
      "text/plain": [
       "    gender      ssc_p    ssc_b      hsc_p   hsc_b     hsc_s   degree_p  \\\n",
       "9        M  76.500000   Others  97.700000  Others   Science  78.860000   \n",
       "254      M  76.572625  Central  97.202913  Others   Science  78.824585   \n",
       "42       M  76.596104  Central  97.062076  Others  Commerce  78.639851   \n",
       "232      F  73.000000  Central  97.000000  Others  Commerce  79.000000   \n",
       "606      M  76.352197  Central  96.220659  Others  Commerce  78.500320   \n",
       "..     ...        ...      ...        ...     ...       ...        ...   \n",
       "590      M  49.616536   Others  37.766928  Others   Science  56.985031   \n",
       "283      M  50.635677   Others  37.601769  Others   Science  52.009315   \n",
       "195      M  49.923044   Others  37.153913  Others   Science  53.000434   \n",
       "81       M  49.943152   Others  37.113696  Others   Science  52.739025   \n",
       "198      M  50.104055   Others  37.106246  Others   Science  52.088463   \n",
       "\n",
       "      degree_t    etest_p      mba_p specialisation workex      status  \n",
       "9     Sci&Tech  97.400000  74.010000        Mkt&Fin     No      Placed  \n",
       "254   Sci&Tech  97.120276  73.811627        Mkt&Fin    Yes      Placed  \n",
       "42   Comm&Mgmt  97.035814  73.630762        Mkt&Fin    Yes      Placed  \n",
       "232  Comm&Mgmt  89.000000  70.810000        Mkt&Fin    Yes      Placed  \n",
       "606  Comm&Mgmt  96.492543  73.401476        Mkt&Fin    Yes      Placed  \n",
       "..         ...        ...        ...            ...    ...         ...  \n",
       "590     Others  64.233072  54.231027         Mkt&HR     No  Not Placed  \n",
       "283     Others  65.597111  56.095786         Mkt&HR     No  Not Placed  \n",
       "195     Others  64.846087  55.732913         Mkt&HR     No  Not Placed  \n",
       "81      Others  64.886304  55.831444         Mkt&HR     No  Not Placed  \n",
       "198     Others  65.106641  56.143373         Mkt&HR     No  Not Placed  \n",
       "\n",
       "[670 rows x 13 columns]"
      ]
     },
     "execution_count": 165,
     "metadata": {},
     "output_type": "execute_result"
    }
   ],
   "source": [
    "df"
   ]
  },
  {
   "cell_type": "code",
   "execution_count": 166,
   "metadata": {},
   "outputs": [],
   "source": [
    "df.drop_duplicates(subset=['gender'],inplace=True)\n"
   ]
  },
  {
   "cell_type": "code",
   "execution_count": 167,
   "metadata": {},
   "outputs": [
    {
     "data": {
      "text/plain": [
       "ssc_p\n",
       "73.0    97.0\n",
       "76.5    97.7\n",
       "Name: hsc_p, dtype: float64"
      ]
     },
     "execution_count": 167,
     "metadata": {},
     "output_type": "execute_result"
    }
   ],
   "source": [
    "df.groupby('ssc_p')['hsc_p'].min()"
   ]
  },
  {
   "cell_type": "code",
   "execution_count": 169,
   "metadata": {},
   "outputs": [
    {
     "data": {
      "text/plain": [
       "(2, 13)"
      ]
     },
     "execution_count": 169,
     "metadata": {},
     "output_type": "execute_result"
    }
   ],
   "source": [
    "df.shape"
   ]
  },
  {
   "cell_type": "code",
   "execution_count": null,
   "metadata": {},
   "outputs": [],
   "source": []
  }
 ],
 "metadata": {
  "kernelspec": {
   "display_name": "Python 3.9.12 ('base')",
   "language": "python",
   "name": "python3"
  },
  "language_info": {
   "codemirror_mode": {
    "name": "ipython",
    "version": 3
   },
   "file_extension": ".py",
   "mimetype": "text/x-python",
   "name": "python",
   "nbconvert_exporter": "python",
   "pygments_lexer": "ipython3",
   "version": "3.9.12"
  },
  "orig_nbformat": 4,
  "vscode": {
   "interpreter": {
    "hash": "02f47f39dd0ee8f21e529f9f6e1f62ff476995be84ab335999cbf3382766c67c"
   }
  }
 },
 "nbformat": 4,
 "nbformat_minor": 2
}
